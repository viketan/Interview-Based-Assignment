{
 "cells": [
  {
   "cell_type": "code",
   "execution_count": 4,
   "id": "34971da2",
   "metadata": {},
   "outputs": [],
   "source": [
    "import numpy as np\n",
    "from scipy.stats import wilcoxon\n",
    "import warnings\n",
    "warnings.filterwarnings('ignore')"
   ]
  },
  {
   "cell_type": "code",
   "execution_count": 7,
   "id": "bfa55128",
   "metadata": {},
   "outputs": [],
   "source": [
    "before_therapy = np.array([10,8,12,15,6,9,11,7,14,10])\n",
    "after_therapy = np.array([7,6,10,12,5,8,9,6,12,8])"
   ]
  },
  {
   "cell_type": "code",
   "execution_count": 9,
   "id": "c91bca65",
   "metadata": {},
   "outputs": [],
   "source": [
    "# Calculate the differences between before and after therapy\n",
    "differences = after_therapy - before_therapy\n",
    "\n",
    "# Perform the Wilcoxon signed-rank test\n",
    "statistic, p_value = wilcoxon(differences)"
   ]
  },
  {
   "cell_type": "code",
   "execution_count": 10,
   "id": "f0c85579",
   "metadata": {},
   "outputs": [
    {
     "name": "stdout",
     "output_type": "stream",
     "text": [
      "Wilcoxon signed-rank test:\n",
      "Statistic: 0.0\n",
      "p-value: 0.001953125\n"
     ]
    }
   ],
   "source": [
    "# Print the results\n",
    "print(\"Wilcoxon signed-rank test:\")\n",
    "print(\"Statistic:\", statistic)\n",
    "print(\"p-value:\", p_value)"
   ]
  },
  {
   "cell_type": "markdown",
   "id": "7ca8c787",
   "metadata": {},
   "source": [
    "**Interpretation**:\n",
    "- Since the p-value is less than the chosen significance level (e.g., 0.05), we can reject the null hypothesis. This suggests that the therapy has a significant effect on anxiety levels, based on the given data."
   ]
  },
  {
   "cell_type": "code",
   "execution_count": null,
   "id": "5be4cfae",
   "metadata": {},
   "outputs": [],
   "source": []
  }
 ],
 "metadata": {
  "kernelspec": {
   "display_name": "Python 3 (ipykernel)",
   "language": "python",
   "name": "python3"
  },
  "language_info": {
   "codemirror_mode": {
    "name": "ipython",
    "version": 3
   },
   "file_extension": ".py",
   "mimetype": "text/x-python",
   "name": "python",
   "nbconvert_exporter": "python",
   "pygments_lexer": "ipython3",
   "version": "3.9.13"
  }
 },
 "nbformat": 4,
 "nbformat_minor": 5
}
