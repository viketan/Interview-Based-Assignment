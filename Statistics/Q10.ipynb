{
 "cells": [
  {
   "cell_type": "code",
   "execution_count": 6,
   "id": "e5966eb9",
   "metadata": {},
   "outputs": [],
   "source": [
    "import math"
   ]
  },
  {
   "cell_type": "code",
   "execution_count": 7,
   "id": "6e9a5384",
   "metadata": {},
   "outputs": [],
   "source": [
    "# Constants\n",
    "n = 500  # Number of trials\n",
    "p = 0.05  # Probability of success (defective bulb)"
   ]
  },
  {
   "cell_type": "code",
   "execution_count": 8,
   "id": "c09f2bc3",
   "metadata": {},
   "outputs": [
    {
     "name": "stdout",
     "output_type": "stream",
     "text": [
      "Probability of exactly 20 bulbs being defective: 0.05161619253663997\n"
     ]
    }
   ],
   "source": [
    "# a. Probability that exactly 20 bulbs are defective\n",
    "k = 20  # Number of successes\n",
    "P_20 = math.comb(n, k) * (p ** k) * ((1 - p) ** (n - k))\n",
    "print(\"Probability of exactly 20 bulbs being defective:\", P_20)"
   ]
  },
  {
   "cell_type": "code",
   "execution_count": 9,
   "id": "4f245b50",
   "metadata": {},
   "outputs": [
    {
     "name": "stdout",
     "output_type": "stream",
     "text": [
      "Probability of at least 10 bulbs being defective: 0.9998316463654692\n"
     ]
    }
   ],
   "source": [
    "# b. Probability that at least 10 bulbs are defective\n",
    "P_at_least_10 = sum(math.comb(n, k) * (p ** k) * ((1 - p) ** (n - k)) for k in range(10, n + 1))\n",
    "print(\"Probability of at least 10 bulbs being defective:\", P_at_least_10)"
   ]
  },
  {
   "cell_type": "code",
   "execution_count": 10,
   "id": "2f4ab7f8",
   "metadata": {},
   "outputs": [
    {
     "name": "stdout",
     "output_type": "stream",
     "text": [
      "Probability of at most 15 bulbs being defective: 0.019858377163006223\n"
     ]
    }
   ],
   "source": [
    "# c. Probability that at most 15 bulbs are defective\n",
    "P_at_most_15 = sum(math.comb(n, k) * (p ** k) * ((1 - p) ** (n - k)) for k in range(0, 16))\n",
    "print(\"Probability of at most 15 bulbs being defective:\", P_at_most_15)"
   ]
  },
  {
   "cell_type": "code",
   "execution_count": 11,
   "id": "704bf257",
   "metadata": {},
   "outputs": [
    {
     "name": "stdout",
     "output_type": "stream",
     "text": [
      "Average number of defective bulbs in a batch of 500: 25.0\n"
     ]
    }
   ],
   "source": [
    "# d. Average number of defective bulbs in a batch of 500\n",
    "mean = n * p\n",
    "print(\"Average number of defective bulbs in a batch of 500:\", mean)\n"
   ]
  },
  {
   "cell_type": "code",
   "execution_count": null,
   "id": "f30edfe8",
   "metadata": {},
   "outputs": [],
   "source": []
  }
 ],
 "metadata": {
  "kernelspec": {
   "display_name": "Python 3 (ipykernel)",
   "language": "python",
   "name": "python3"
  },
  "language_info": {
   "codemirror_mode": {
    "name": "ipython",
    "version": 3
   },
   "file_extension": ".py",
   "mimetype": "text/x-python",
   "name": "python",
   "nbconvert_exporter": "python",
   "pygments_lexer": "ipython3",
   "version": "3.9.13"
  }
 },
 "nbformat": 4,
 "nbformat_minor": 5
}
