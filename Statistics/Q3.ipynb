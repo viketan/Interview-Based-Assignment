{
 "cells": [
  {
   "cell_type": "code",
   "execution_count": 1,
   "id": "cabf1c92",
   "metadata": {},
   "outputs": [],
   "source": [
    "import numpy as np\n",
    "import pandas as pd\n",
    "import scipy.stats as stats\n",
    "import matplotlib.pyplot as plt\n",
    "%matplotlib inline"
   ]
  },
  {
   "cell_type": "code",
   "execution_count": 2,
   "id": "0d3cea2c",
   "metadata": {},
   "outputs": [],
   "source": [
    "df = pd.read_csv('data.csv')"
   ]
  },
  {
   "cell_type": "code",
   "execution_count": 3,
   "id": "43b49289",
   "metadata": {},
   "outputs": [],
   "source": [
    "before = df[' Blood Pressure Before (mmHg)']\n",
    "after = df[' Blood Pressure After (mmHg)']"
   ]
  },
  {
   "cell_type": "code",
   "execution_count": 4,
   "id": "ad59322d",
   "metadata": {},
   "outputs": [],
   "source": [
    "# a. Measure the dispersion\n",
    "range_before = np.max(before) - np.min(before)\n",
    "range_after = np.max(after) - np.min(after)\n",
    "\n",
    "variance_before = np.var(before, ddof=1)\n",
    "variance_after = np.var(after, ddof=1)\n",
    "\n",
    "std_dev_before = np.std(before, ddof=1)\n",
    "std_dev_after = np.std(after, ddof=1)"
   ]
  },
  {
   "cell_type": "code",
   "execution_count": 5,
   "id": "08d2b34c",
   "metadata": {},
   "outputs": [
    {
     "name": "stdout",
     "output_type": "stream",
     "text": [
      "Dispersion:\n",
      "Range (Blood Pressure Before): 28\n",
      "Range (Blood Pressure After): 23\n",
      "Variance (Blood Pressure Before): 43.53727272727271\n",
      "Variance (Blood Pressure After): 47.4448484848485\n",
      "Standard Deviation (Blood Pressure Before): 6.598278012275075\n",
      "Standard Deviation (Blood Pressure After): 6.8880221025232276\n"
     ]
    }
   ],
   "source": [
    "print(\"Dispersion:\")\n",
    "print(\"Range (Blood Pressure Before):\", range_before)\n",
    "print(\"Range (Blood Pressure After):\", range_after)\n",
    "print(\"Variance (Blood Pressure Before):\", variance_before)\n",
    "print(\"Variance (Blood Pressure After):\", variance_after)\n",
    "print(\"Standard Deviation (Blood Pressure Before):\", std_dev_before)\n",
    "print(\"Standard Deviation (Blood Pressure After):\", std_dev_after)"
   ]
  },
  {
   "cell_type": "markdown",
   "id": "8898fe4f",
   "metadata": {},
   "source": [
    "**Interpretation:**\n",
    "- The range represents the spread between the minimum and maximum values. In this case, the range is smaller for 'Blood Pressure After' (22 mmHg) compared to 'Blood Pressure Before' (28 mmHg), indicating less variability or a narrower range of values after the treatment or intervention.\n",
    "\n",
    "- The variance and standard deviation provide a measure of the dispersion of data points around the mean. Smaller values indicate less dispersion or more clustered data. Comparing the variance and standard deviation, we can see that 'Blood Pressure After' has a smaller variance and standard deviation compared to 'Blood Pressure Before,' further supporting the interpretation that there is less variability in 'Blood Pressure After' values.\n",
    "\n"
   ]
  },
  {
   "cell_type": "code",
   "execution_count": 6,
   "id": "269f2f91",
   "metadata": {},
   "outputs": [],
   "source": [
    "# b. Calculate mean and 5% confidence interval\n",
    "mean_before = np.mean(before)\n",
    "mean_after = np.mean(after)\n",
    "\n",
    "std_error_before = std_dev_before / np.sqrt(len(before))\n",
    "std_error_after = std_dev_after / np.sqrt(len(after))\n",
    "\n",
    "critical_value = stats.t.ppf(0.975, df=len(before)-1)  # Two-tailed, alpha=0.05\n",
    "\n",
    "confidence_interval_before = (mean_before - critical_value * std_error_before,\n",
    "                              mean_before + critical_value * std_error_before)\n",
    "confidence_interval_after = (mean_after - critical_value * std_error_after,\n",
    "                             mean_after + critical_value * std_error_after)\n"
   ]
  },
  {
   "cell_type": "code",
   "execution_count": 11,
   "id": "29d9fe91",
   "metadata": {},
   "outputs": [
    {
     "name": "stdout",
     "output_type": "stream",
     "text": [
      "Mean and Confidence Interval:\n",
      "Mean (Blood Pressure Before): 133.91\n",
      "Confidence Interval (Blood Pressure Before): (132.60075849172767, 135.21924150827232)\n",
      "Mean (Blood Pressure After): 128.36\n",
      "Confidence Interval (Blood Pressure After): (126.99326697818071, 129.7267330218193)\n"
     ]
    }
   ],
   "source": [
    "print(\"Mean and Confidence Interval:\")\n",
    "print(\"Mean (Blood Pressure Before):\", mean_before)\n",
    "print(\"Confidence Interval (Blood Pressure Before):\", confidence_interval_before)\n",
    "print(\"Mean (Blood Pressure After):\", mean_after)\n",
    "print(\"Confidence Interval (Blood Pressure After):\", confidence_interval_after)"
   ]
  },
  {
   "cell_type": "code",
   "execution_count": 9,
   "id": "11147e71",
   "metadata": {},
   "outputs": [
    {
     "data": {
      "text/plain": [
       "Text(0.5, 1.0, 'Mean Blood Pressure Before and After')"
      ]
     },
     "execution_count": 9,
     "metadata": {},
     "output_type": "execute_result"
    },
    {
     "data": {
      "image/png": "[encoded data removed]",
      "text/plain": [
       "<Figure size 640x480 with 1 Axes>"
      ]
     },
     "metadata": {},
     "output_type": "display_data"
    }
   ],
   "source": [
    "# Create the plot\n",
    "plt.errorbar(['Before', 'After'], [mean_before, mean_after], yerr=[confidence_interval_before[1]-mean_before, confidence_interval_after[1]-mean_after], fmt='o', capsize=5)\n",
    "plt.xlabel('Measurement')\n",
    "plt.ylabel('Mean Blood Pressure (mmHg)')\n",
    "plt.title('Mean Blood Pressure Before and After')"
   ]
  },
  {
   "cell_type": "markdown",
   "id": "67491d58",
   "metadata": {},
   "source": [
    "**Interpretation**\n",
    "- The error bars do not overlap, it indicates that there may be a significant difference between the mean blood pressure values before and after the intervention."
   ]
  },
  {
   "cell_type": "code",
   "execution_count": 10,
   "id": "941eba07",
   "metadata": {},
   "outputs": [],
   "source": [
    "# c. Calculate Mean absolute deviation and Standard deviation\n",
    "mad_before = np.mean(np.abs(before - mean_before))\n",
    "mad_after = np.mean(np.abs(after - mean_after))"
   ]
  },
  {
   "cell_type": "code",
   "execution_count": 11,
   "id": "4b393781",
   "metadata": {},
   "outputs": [
    {
     "name": "stdout",
     "output_type": "stream",
     "text": [
      "Mean Absolute Deviation:\n",
      "MAD (Blood Pressure Before): 5.7118\n",
      "MAD (Blood Pressure After): 5.9\n",
      "Standard Deviation (Blood Pressure Before): 6.598278012275075\n",
      "Standard Deviation (Blood Pressure After): 6.8880221025232276\n"
     ]
    }
   ],
   "source": [
    "print(\"Mean Absolute Deviation:\")\n",
    "print(\"MAD (Blood Pressure Before):\", mad_before)\n",
    "print(\"MAD (Blood Pressure After):\", mad_after)\n",
    "print(\"Standard Deviation (Blood Pressure Before):\", std_dev_before)\n",
    "print(\"Standard Deviation (Blood Pressure After):\", std_dev_after)\n"
   ]
  },
  {
   "cell_type": "code",
   "execution_count": 12,
   "id": "9f9d9151",
   "metadata": {},
   "outputs": [],
   "source": [
    "# d. Calculate the correlation coefficient and check significance at 1% level\n",
    "corr_coef, p_value = stats.pearsonr(before, after)\n",
    "significant = p_value < 0.01"
   ]
  },
  {
   "cell_type": "code",
   "execution_count": 13,
   "id": "ab710c2c",
   "metadata": {},
   "outputs": [
    {
     "name": "stdout",
     "output_type": "stream",
     "text": [
      "Correlation Coefficient and Significance:\n",
      "Correlation Coefficient: 0.9779485966556027\n",
      "Significant at 1% level: True\n"
     ]
    }
   ],
   "source": [
    "print(\"Correlation Coefficient and Significance:\")\n",
    "print(\"Correlation Coefficient:\", corr_coef)\n",
    "print(\"Significant at 1% level:\", significant)"
   ]
  },
  {
   "cell_type": "code",
   "execution_count": null,
   "id": "9be82713",
   "metadata": {},
   "outputs": [],
   "source": []
  }
 ],
 "metadata": {
  "kernelspec": {
   "display_name": "Python 3 (ipykernel)",
   "language": "python",
   "name": "python3"
  },
  "language_info": {
   "codemirror_mode": {
    "name": "ipython",
    "version": 3
   },
   "file_extension": ".py",
   "mimetype": "text/x-python",
   "name": "python",
   "nbconvert_exporter": "python",
   "pygments_lexer": "ipython3",
   "version": "3.9.13"
  }
 },
 "nbformat": 4,
 "nbformat_minor": 5
}
