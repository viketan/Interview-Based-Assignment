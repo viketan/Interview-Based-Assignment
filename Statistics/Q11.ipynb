{
 "cells": [
  {
   "cell_type": "code",
   "execution_count": 10,
   "id": "a13b09d1",
   "metadata": {},
   "outputs": [],
   "source": [
    "import numpy as np\n",
    "import pandas as pd\n",
    "import scipy.stats as stats\n",
    "import matplotlib.pyplot as plt\n",
    "from scipy.stats import f_oneway\n",
    "from scipy.stats import levene\n",
    "%matplotlib inline"
   ]
  },
  {
   "cell_type": "code",
   "execution_count": 11,
   "id": "e576ee25",
   "metadata": {},
   "outputs": [],
   "source": [
    "data = pd.read_csv('data.csv')"
   ]
  },
  {
   "cell_type": "code",
   "execution_count": 12,
   "id": "578ba723",
   "metadata": {},
   "outputs": [
    {
     "name": "stdout",
     "output_type": "stream",
     "text": [
      "a. One-way ANOVA test:\n",
      "F-statistic: 33.85555270599285\n",
      "p-value: 2.3565868442707578e-08\n"
     ]
    }
   ],
   "source": [
    "# a. Checking the distribution of all the classes using one-way ANOVA\n",
    "f_statistic, p_value = f_oneway(data[' Blood Pressure Before (mmHg)'], data[' Blood Pressure After (mmHg)'])\n",
    "print(\"a. One-way ANOVA test:\")\n",
    "print(\"F-statistic:\", f_statistic)\n",
    "print(\"p-value:\", p_value)"
   ]
  },
  {
   "cell_type": "markdown",
   "id": "ad79a311",
   "metadata": {},
   "source": [
    "**Intepretation**:\n",
    "- The one-way ANOVA test reveals a significant difference among the means of the blood pressure before and after measurements. The high F-statistic of 33.86 and the very low p-value of 2.36e-08 indicate strong evidence against the null hypothesis of equal means across all classes."
   ]
  },
  {
   "cell_type": "code",
   "execution_count": 14,
   "id": "6fe6ecdb",
   "metadata": {},
   "outputs": [
    {
     "name": "stdout",
     "output_type": "stream",
     "text": [
      "\n",
      "b. Levene's test for equality of variance:\n",
      "Levene's statistic: 0.18038002140150966\n",
      "p-value: 0.6715080090945376\n"
     ]
    }
   ],
   "source": [
    "# b. Checking the equality of variance using Levene's test\n",
    "levene_statistic, levene_p_value = levene(data[' Blood Pressure Before (mmHg)'], data[' Blood Pressure After (mmHg)'])\n",
    "print(\"\\nb. Levene's test for equality of variance:\")\n",
    "print(\"Levene's statistic:\", levene_statistic)\n",
    "print(\"p-value:\", levene_p_value)"
   ]
  },
  {
   "cell_type": "markdown",
   "id": "03670654",
   "metadata": {},
   "source": [
    "**Interpretation**:\n",
    "- Levene's test for equality of variance shows that there is no significant difference in variances between the blood pressure before and after measurements. The low Levene's statistic of 0.18 and the relatively high p-value of 0.67 suggest that the variances are similar for the two groups."
   ]
  },
  {
   "cell_type": "code",
   "execution_count": 16,
   "id": "87805f2f",
   "metadata": {},
   "outputs": [
    {
     "name": "stdout",
     "output_type": "stream",
     "text": [
      "\n",
      "d. One-way ANOVA test for equality of means between classes:\n",
      "F-statistic: 33.85555270599285\n",
      "p-value: 2.3565868442707578e-08\n"
     ]
    }
   ],
   "source": [
    "# d. Checking the equality of means between all the classes using one-way ANOVA\n",
    "f_statistic, p_value = f_oneway(data[' Blood Pressure Before (mmHg)'], data[' Blood Pressure After (mmHg)'])\n",
    "print(\"\\nd. One-way ANOVA test for equality of means between classes:\")\n",
    "print(\"F-statistic:\", f_statistic)\n",
    "print(\"p-value:\", p_value)"
   ]
  },
  {
   "cell_type": "markdown",
   "id": "38f6a756",
   "metadata": {},
   "source": [
    "**Interpretation**:\n",
    "- The one-way ANOVA test for equality of means indicates a significant difference in means between the blood pressure before and after measurements. The high F-statistic of 33.86 and the very low p-value of 2.36e-08 provide strong evidence against the null hypothesis of equal means across all classes."
   ]
  },
  {
   "cell_type": "code",
   "execution_count": null,
   "id": "c125699f",
   "metadata": {},
   "outputs": [],
   "source": []
  }
 ],
 "metadata": {
  "kernelspec": {
   "display_name": "Python 3 (ipykernel)",
   "language": "python",
   "name": "python3"
  },
  "language_info": {
   "codemirror_mode": {
    "name": "ipython",
    "version": 3
   },
   "file_extension": ".py",
   "mimetype": "text/x-python",
   "name": "python",
   "nbconvert_exporter": "python",
   "pygments_lexer": "ipython3",
   "version": "3.9.13"
  }
 },
 "nbformat": 4,
 "nbformat_minor": 5
}
