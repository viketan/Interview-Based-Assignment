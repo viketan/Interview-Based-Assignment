{
 "cells": [
  {
   "cell_type": "code",
   "execution_count": 3,
   "id": "595bddbc",
   "metadata": {},
   "outputs": [],
   "source": [
    "import numpy as np\n",
    "from scipy.stats import f_oneway"
   ]
  },
  {
   "cell_type": "code",
   "execution_count": 4,
   "id": "16504a0d",
   "metadata": {},
   "outputs": [],
   "source": [
    "# Scores of students in multiple exams\n",
    "scores_exam1 = np.array([85, 70, 90, 75, 95])\n",
    "scores_exam2 = np.array([90, 80, 85, 70, 92])\n",
    "scores_final_exam = np.array([92, 85, 88, 75, 96])"
   ]
  },
  {
   "cell_type": "code",
   "execution_count": 5,
   "id": "562b767b",
   "metadata": {},
   "outputs": [],
   "source": [
    "# Perform one-way ANOVA test\n",
    "f_statistic, p_value = f_oneway(scores_exam1, scores_exam2, scores_final_exam)"
   ]
  },
  {
   "cell_type": "code",
   "execution_count": 6,
   "id": "31c9b39d",
   "metadata": {},
   "outputs": [
    {
     "name": "stdout",
     "output_type": "stream",
     "text": [
      "One-way ANOVA test:\n",
      "F-statistic: 0.3236947791164659\n",
      "p-value: 0.7295954253321559\n"
     ]
    }
   ],
   "source": [
    "# Print the results\n",
    "print(\"One-way ANOVA test:\")\n",
    "print(\"F-statistic:\", f_statistic)\n",
    "print(\"p-value:\", p_value)"
   ]
  },
  {
   "cell_type": "markdown",
   "id": "4ac2ea0d",
   "metadata": {},
   "source": [
    "**Interpret**:\n",
    "- Since the p-value is greater than the commonly used significance level (e.g., 0.05), we do not have sufficient evidence to reject the null hypothesis. Therefore, we fail to reject the hypothesis that the mean scores of all the students are the same."
   ]
  },
  {
   "cell_type": "code",
   "execution_count": null,
   "id": "07f89507",
   "metadata": {},
   "outputs": [],
   "source": []
  }
 ],
 "metadata": {
  "kernelspec": {
   "display_name": "Python 3 (ipykernel)",
   "language": "python",
   "name": "python3"
  },
  "language_info": {
   "codemirror_mode": {
    "name": "ipython",
    "version": 3
   },
   "file_extension": ".py",
   "mimetype": "text/x-python",
   "name": "python",
   "nbconvert_exporter": "python",
   "pygments_lexer": "ipython3",
   "version": "3.9.13"
  }
 },
 "nbformat": 4,
 "nbformat_minor": 5
}
