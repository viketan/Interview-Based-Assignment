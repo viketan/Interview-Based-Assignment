{
 "cells": [
  {
   "cell_type": "markdown",
   "id": "163ef631",
   "metadata": {},
   "source": [
    "#### Consider a string to be valid if all characters of the string appear the same number of times. It is also valid if he can remove just one character at the index in the string, and the remaining characters will occur the same number of times. Given a string, determine if it is valid. If so, return YES , otherwise return NO .\n",
    "- Note - You have to write at least 2 additional test cases in which your program will run successfully and provide an explanation for the same.\n",
    "- Example input 1 - s = “abc”. This is a valid string because frequencies are { “a”: 1, “b”: 1, “c”: 1 } \n",
    "-- Example output 1- YES\n",
    "- Example input 2 - s “abcc”. This string is not valid as we can remove only 1 occurrence of “c”. That leaves character frequencies of { “a”: 1, “b”: 1 , “c”: 2 }\n",
    "-- Example output 2 - NO"
   ]
  },
  {
   "cell_type": "code",
   "execution_count": 1,
   "id": "aa93bc1e",
   "metadata": {},
   "outputs": [],
   "source": [
    "def is_valid_string(s):\n",
    "    char_count = {}\n",
    "    \n",
    "    # Count the frequency of each character\n",
    "    for char in s:\n",
    "        if char in char_count:\n",
    "            char_count[char] += 1\n",
    "        else:\n",
    "            char_count[char] = 1\n",
    "    \n",
    "    # Count the frequency of each character count\n",
    "    count_count = {}\n",
    "    for count in char_count.values():\n",
    "        if count in count_count:\n",
    "            count_count[count] += 1\n",
    "        else:\n",
    "            count_count[count] = 1\n",
    "    \n",
    "    # If there is only one unique count, the string is valid\n",
    "    if len(count_count) == 1:\n",
    "        return \"YES\"\n",
    "    \n",
    "    # If there are more than two unique counts, the string is not valid\n",
    "    if len(count_count) > 2:\n",
    "        return \"NO\"\n",
    "    \n",
    "    # If there are exactly two unique counts\n",
    "    counts = list(count_count.keys())\n",
    "    freqs = list(count_count.values())\n",
    "    if (freqs[0] == 1 and counts[0] == 1) or (freqs[1] == 1 and counts[1] == 1):\n",
    "        # If one count occurs only once, removing a character with that count will make the string valid\n",
    "        return \"YES\"\n",
    "    if abs(counts[0] - counts[1]) == 1 and (freqs[0] == 1 or freqs[1] == 1):\n",
    "        # If the difference between the counts is 1 and one of the counts occurs only once,\n",
    "        # removing a character with the count that occurs more will make the string valid\n",
    "        return \"YES\"\n",
    "    \n",
    "    return \"NO\"\n"
   ]
  },
  {
   "cell_type": "markdown",
   "id": "2fb4ebf3",
   "metadata": {},
   "source": [
    "#### Test Case 1: \n",
    "- input: aabbccc"
   ]
  },
  {
   "cell_type": "code",
   "execution_count": 30,
   "id": "4157914c",
   "metadata": {},
   "outputs": [
    {
     "name": "stdout",
     "output_type": "stream",
     "text": [
      "Enter the string: aabbccc\n"
     ]
    },
    {
     "data": {
      "text/plain": [
       "'YES'"
      ]
     },
     "execution_count": 30,
     "metadata": {},
     "output_type": "execute_result"
    }
   ],
   "source": [
    "string = input(\"Enter the string: \")\n",
    "is_valid_string(string)"
   ]
  },
  {
   "cell_type": "markdown",
   "id": "927580a6",
   "metadata": {},
   "source": [
    "#### explaination:\n",
    "- output: YES, Removing one c from string will make valid string."
   ]
  },
  {
   "cell_type": "markdown",
   "id": "ca8215d5",
   "metadata": {},
   "source": [
    "#### Test case 2 :\n",
    "- input: aabbccdddd"
   ]
  },
  {
   "cell_type": "code",
   "execution_count": 32,
   "id": "9594071d",
   "metadata": {},
   "outputs": [
    {
     "name": "stdout",
     "output_type": "stream",
     "text": [
      "Enter the string: aabbccdddd\n"
     ]
    },
    {
     "data": {
      "text/plain": [
       "'NO'"
      ]
     },
     "execution_count": 32,
     "metadata": {},
     "output_type": "execute_result"
    }
   ],
   "source": [
    "string = input(\"Enter the string: \")\n",
    "is_valid_string(string)"
   ]
  },
  {
   "cell_type": "markdown",
   "id": "0d5278ae",
   "metadata": {},
   "source": [
    "#### explaination:\n",
    "- output: no. Even if we remove one d from string resultant string is not valid becuase of unequal frequencies {'a':2,'b':2,'c':2,d:'3'}"
   ]
  },
  {
   "cell_type": "code",
   "execution_count": null,
   "id": "eab8baca",
   "metadata": {},
   "outputs": [],
   "source": []
  }
 ],
 "metadata": {
  "kernelspec": {
   "display_name": "Python 3 (ipykernel)",
   "language": "python",
   "name": "python3"
  },
  "language_info": {
   "codemirror_mode": {
    "name": "ipython",
    "version": 3
   },
   "file_extension": ".py",
   "mimetype": "text/x-python",
   "name": "python",
   "nbconvert_exporter": "python",
   "pygments_lexer": "ipython3",
   "version": "3.9.13"
  }
 },
 "nbformat": 4,
 "nbformat_minor": 5
}
