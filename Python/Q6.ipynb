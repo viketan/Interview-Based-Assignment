{
 "cells": [
  {
   "cell_type": "markdown",
   "id": "05033e8e",
   "metadata": {},
   "source": [
    "#### Using the data from Question 3, write code to analyze the data and answer the following questions Note 1.\n",
    "- Draw plots to demonstrate the analysis for the following questions for better visualizations. 2. Write code comments wherever required for code understanding\n",
    "#### Insights to be drawn -\n",
    "- Get all Pokemons whose spawn rate is less than 5%\n",
    "- Get all Pokemons that have less than 4 weaknesses\n",
    "- Get all Pokemons that have no multipliers at all\n",
    "- Get all Pokemons that do not have more than 2 evolutions\n",
    "- Get all Pokemons whose spawn time is less than 300 seconds.\n",
    "-- Note - spawn time format is \"05:32”, so assume “minute: second” format and perform the analysis.\n",
    "- Get all Pokemon who have more than two types of capabilities\n"
   ]
  },
  {
   "cell_type": "code",
   "execution_count": 158,
   "id": "6f0fecc4",
   "metadata": {},
   "outputs": [],
   "source": [
    "import pandas as pd\n",
    "import numpy as np\n",
    "import seaborn as sns\n",
    "import matplotlib.pyplot as plt\n",
    "import warnings\n",
    "warnings.filterwarnings('ignore')\n",
    "%matplotlib inline"
   ]
  },
  {
   "cell_type": "code",
   "execution_count": 159,
   "id": "8e429271",
   "metadata": {},
   "outputs": [
    {
     "data": {
      "text/html": [
       "<div>\n",
       "<style scoped>\n",
       "    .dataframe tbody tr th:only-of-type {\n",
       "        vertical-align: middle;\n",
       "    }\n",
       "\n",
       "    .dataframe tbody tr th {\n",
       "        vertical-align: top;\n",
       "    }\n",
       "\n",
       "    .dataframe thead th {\n",
       "        text-align: right;\n",
       "    }\n",
       "</style>\n",
       "<table border=\"1\" class=\"dataframe\">\n",
       "  <thead>\n",
       "    <tr style=\"text-align: right;\">\n",
       "      <th></th>\n",
       "      <th>id</th>\n",
       "      <th>num</th>\n",
       "      <th>name</th>\n",
       "      <th>img</th>\n",
       "      <th>type</th>\n",
       "      <th>height</th>\n",
       "      <th>weight</th>\n",
       "      <th>candy</th>\n",
       "      <th>candy_count</th>\n",
       "      <th>egg</th>\n",
       "      <th>spawn_chance</th>\n",
       "      <th>avg_spawns</th>\n",
       "      <th>spawn_time</th>\n",
       "      <th>multipliers</th>\n",
       "      <th>weakness</th>\n",
       "      <th>next_evolution</th>\n",
       "      <th>prev_evolution</th>\n",
       "    </tr>\n",
       "  </thead>\n",
       "  <tbody>\n",
       "    <tr>\n",
       "      <th>0</th>\n",
       "      <td>1</td>\n",
       "      <td>1</td>\n",
       "      <td>Bulbasaur</td>\n",
       "      <td>http://www.serebii.net/pokemongo/pokemon/001.png</td>\n",
       "      <td>['Grass', 'Poison']</td>\n",
       "      <td>0.71 m</td>\n",
       "      <td>6.9 kg</td>\n",
       "      <td>Bulbasaur Candy</td>\n",
       "      <td>25.0</td>\n",
       "      <td>2 km</td>\n",
       "      <td>0.690</td>\n",
       "      <td>69.0</td>\n",
       "      <td>20:00</td>\n",
       "      <td>[1.58]</td>\n",
       "      <td>['Fire', 'Ice', 'Flying', 'Psychic']</td>\n",
       "      <td>[{'num': '002', 'name': 'Ivysaur'}, {'num': '0...</td>\n",
       "      <td>[]</td>\n",
       "    </tr>\n",
       "    <tr>\n",
       "      <th>1</th>\n",
       "      <td>2</td>\n",
       "      <td>2</td>\n",
       "      <td>Ivysaur</td>\n",
       "      <td>http://www.serebii.net/pokemongo/pokemon/002.png</td>\n",
       "      <td>['Grass', 'Poison']</td>\n",
       "      <td>0.99 m</td>\n",
       "      <td>13.0 kg</td>\n",
       "      <td>Bulbasaur Candy</td>\n",
       "      <td>100.0</td>\n",
       "      <td>Not in Eggs</td>\n",
       "      <td>0.042</td>\n",
       "      <td>4.2</td>\n",
       "      <td>07:00</td>\n",
       "      <td>[1.2, 1.6]</td>\n",
       "      <td>['Fire', 'Ice', 'Flying', 'Psychic']</td>\n",
       "      <td>[{'num': '003', 'name': 'Venusaur'}]</td>\n",
       "      <td>[{'num': '001', 'name': 'Bulbasaur'}]</td>\n",
       "    </tr>\n",
       "    <tr>\n",
       "      <th>2</th>\n",
       "      <td>3</td>\n",
       "      <td>3</td>\n",
       "      <td>Venusaur</td>\n",
       "      <td>http://www.serebii.net/pokemongo/pokemon/003.png</td>\n",
       "      <td>['Grass', 'Poison']</td>\n",
       "      <td>2.01 m</td>\n",
       "      <td>100.0 kg</td>\n",
       "      <td>Bulbasaur Candy</td>\n",
       "      <td>NaN</td>\n",
       "      <td>Not in Eggs</td>\n",
       "      <td>0.017</td>\n",
       "      <td>1.7</td>\n",
       "      <td>11:30</td>\n",
       "      <td>NaN</td>\n",
       "      <td>['Fire', 'Ice', 'Flying', 'Psychic']</td>\n",
       "      <td>[]</td>\n",
       "      <td>[{'num': '001', 'name': 'Bulbasaur'}, {'num': ...</td>\n",
       "    </tr>\n",
       "    <tr>\n",
       "      <th>3</th>\n",
       "      <td>4</td>\n",
       "      <td>4</td>\n",
       "      <td>Charmander</td>\n",
       "      <td>http://www.serebii.net/pokemongo/pokemon/004.png</td>\n",
       "      <td>['Fire']</td>\n",
       "      <td>0.61 m</td>\n",
       "      <td>8.5 kg</td>\n",
       "      <td>Charmander Candy</td>\n",
       "      <td>25.0</td>\n",
       "      <td>2 km</td>\n",
       "      <td>0.253</td>\n",
       "      <td>25.3</td>\n",
       "      <td>08:45</td>\n",
       "      <td>[1.65]</td>\n",
       "      <td>['Water', 'Ground', 'Rock']</td>\n",
       "      <td>[{'num': '005', 'name': 'Charmeleon'}, {'num':...</td>\n",
       "      <td>[]</td>\n",
       "    </tr>\n",
       "    <tr>\n",
       "      <th>4</th>\n",
       "      <td>5</td>\n",
       "      <td>5</td>\n",
       "      <td>Charmeleon</td>\n",
       "      <td>http://www.serebii.net/pokemongo/pokemon/005.png</td>\n",
       "      <td>['Fire']</td>\n",
       "      <td>1.09 m</td>\n",
       "      <td>19.0 kg</td>\n",
       "      <td>Charmander Candy</td>\n",
       "      <td>100.0</td>\n",
       "      <td>Not in Eggs</td>\n",
       "      <td>0.012</td>\n",
       "      <td>1.2</td>\n",
       "      <td>19:00</td>\n",
       "      <td>[1.79]</td>\n",
       "      <td>['Water', 'Ground', 'Rock']</td>\n",
       "      <td>[{'num': '006', 'name': 'Charizard'}]</td>\n",
       "      <td>[{'num': '004', 'name': 'Charmander'}]</td>\n",
       "    </tr>\n",
       "  </tbody>\n",
       "</table>\n",
       "</div>"
      ],
      "text/plain": [
       "   id  num        name                                               img  \\\n",
       "0   1    1   Bulbasaur  http://www.serebii.net/pokemongo/pokemon/001.png   \n",
       "1   2    2     Ivysaur  http://www.serebii.net/pokemongo/pokemon/002.png   \n",
       "2   3    3    Venusaur  http://www.serebii.net/pokemongo/pokemon/003.png   \n",
       "3   4    4  Charmander  http://www.serebii.net/pokemongo/pokemon/004.png   \n",
       "4   5    5  Charmeleon  http://www.serebii.net/pokemongo/pokemon/005.png   \n",
       "\n",
       "                  type  height    weight             candy  candy_count  \\\n",
       "0  ['Grass', 'Poison']  0.71 m    6.9 kg   Bulbasaur Candy         25.0   \n",
       "1  ['Grass', 'Poison']  0.99 m   13.0 kg   Bulbasaur Candy        100.0   \n",
       "2  ['Grass', 'Poison']  2.01 m  100.0 kg   Bulbasaur Candy          NaN   \n",
       "3             ['Fire']  0.61 m    8.5 kg  Charmander Candy         25.0   \n",
       "4             ['Fire']  1.09 m   19.0 kg  Charmander Candy        100.0   \n",
       "\n",
       "           egg  spawn_chance  avg_spawns spawn_time multipliers  \\\n",
       "0         2 km         0.690        69.0      20:00      [1.58]   \n",
       "1  Not in Eggs         0.042         4.2      07:00  [1.2, 1.6]   \n",
       "2  Not in Eggs         0.017         1.7      11:30         NaN   \n",
       "3         2 km         0.253        25.3      08:45      [1.65]   \n",
       "4  Not in Eggs         0.012         1.2      19:00      [1.79]   \n",
       "\n",
       "                               weakness  \\\n",
       "0  ['Fire', 'Ice', 'Flying', 'Psychic']   \n",
       "1  ['Fire', 'Ice', 'Flying', 'Psychic']   \n",
       "2  ['Fire', 'Ice', 'Flying', 'Psychic']   \n",
       "3           ['Water', 'Ground', 'Rock']   \n",
       "4           ['Water', 'Ground', 'Rock']   \n",
       "\n",
       "                                      next_evolution  \\\n",
       "0  [{'num': '002', 'name': 'Ivysaur'}, {'num': '0...   \n",
       "1               [{'num': '003', 'name': 'Venusaur'}]   \n",
       "2                                                 []   \n",
       "3  [{'num': '005', 'name': 'Charmeleon'}, {'num':...   \n",
       "4              [{'num': '006', 'name': 'Charizard'}]   \n",
       "\n",
       "                                      prev_evolution  \n",
       "0                                                 []  \n",
       "1              [{'num': '001', 'name': 'Bulbasaur'}]  \n",
       "2  [{'num': '001', 'name': 'Bulbasaur'}, {'num': ...  \n",
       "3                                                 []  \n",
       "4             [{'num': '004', 'name': 'Charmander'}]  "
      ]
     },
     "execution_count": 159,
     "metadata": {},
     "output_type": "execute_result"
    }
   ],
   "source": [
    "df = pd.read_excel('pokemon_data.xlsx')\n",
    "df.head()"
   ]
  },
  {
   "cell_type": "code",
   "execution_count": 160,
   "id": "36d2c6fe",
   "metadata": {},
   "outputs": [
    {
     "name": "stdout",
     "output_type": "stream",
     "text": [
      "<class 'pandas.core.frame.DataFrame'>\n",
      "RangeIndex: 151 entries, 0 to 150\n",
      "Data columns (total 17 columns):\n",
      " #   Column          Non-Null Count  Dtype  \n",
      "---  ------          --------------  -----  \n",
      " 0   id              151 non-null    int64  \n",
      " 1   num             151 non-null    int64  \n",
      " 2   name            151 non-null    object \n",
      " 3   img             151 non-null    object \n",
      " 4   type            151 non-null    object \n",
      " 5   height          151 non-null    object \n",
      " 6   weight          151 non-null    object \n",
      " 7   candy           151 non-null    object \n",
      " 8   candy_count     70 non-null     float64\n",
      " 9   egg             151 non-null    object \n",
      " 10  spawn_chance    151 non-null    float64\n",
      " 11  avg_spawns      151 non-null    float64\n",
      " 12  spawn_time      145 non-null    object \n",
      " 13  multipliers     70 non-null     object \n",
      " 14  weakness        151 non-null    object \n",
      " 15  next_evolution  151 non-null    object \n",
      " 16  prev_evolution  151 non-null    object \n",
      "dtypes: float64(3), int64(2), object(12)\n",
      "memory usage: 20.2+ KB\n"
     ]
    }
   ],
   "source": [
    "df.info()"
   ]
  },
  {
   "cell_type": "code",
   "execution_count": 161,
   "id": "0167d5e4",
   "metadata": {},
   "outputs": [
    {
     "data": {
      "text/plain": [
       "<AxesSubplot:xlabel='spawn_chance', ylabel='Count'>"
      ]
     },
     "execution_count": 161,
     "metadata": {},
     "output_type": "execute_result"
    },
    {
     "data": {
      "image/png": "[encoded data removed]",
      "text/plain": [
       "<Figure size 640x480 with 1 Axes>"
      ]
     },
     "metadata": {},
     "output_type": "display_data"
    }
   ],
   "source": [
    "sns.histplot(data=df, x='spawn_chance',bins=50)"
   ]
  },
  {
   "cell_type": "code",
   "execution_count": 162,
   "id": "baa36305",
   "metadata": {},
   "outputs": [
    {
     "name": "stdout",
     "output_type": "stream",
     "text": [
      "65 out of 151 Pokemons whose spawn rate is less than 5%\n"
     ]
    }
   ],
   "source": [
    "# Get all Pokemons whose spawn rate is less than 5%\n",
    "less_spawn_rate = df[df['spawn_chance']<0.05]\n",
    "print(f\"{len(less_spawn_rate)} out of {len(df)} Pokemons whose spawn rate is less than 5%\")"
   ]
  },
  {
   "cell_type": "code",
   "execution_count": 163,
   "id": "0c7a713c",
   "metadata": {},
   "outputs": [],
   "source": [
    "import ast\n",
    "df['type'] = df['type'].apply(ast.literal_eval)\n",
    "df['weakness'] = df['weakness'].apply(ast.literal_eval)\n",
    "df['next_evolution'] = df['next_evolution'].apply(ast.literal_eval)\n",
    "df['prev_evolution'] = df['prev_evolution'].apply(ast.literal_eval)"
   ]
  },
  {
   "cell_type": "code",
   "execution_count": 164,
   "id": "bc998a62",
   "metadata": {},
   "outputs": [
    {
     "data": {
      "text/plain": [
       "<AxesSubplot:xlabel='weakness', ylabel='count'>"
      ]
     },
     "execution_count": 164,
     "metadata": {},
     "output_type": "execute_result"
    },
    {
     "data": {
      "image/png": "[encoded data removed]",
      "text/plain": [
       "<Figure size 640x480 with 1 Axes>"
      ]
     },
     "metadata": {},
     "output_type": "display_data"
    }
   ],
   "source": [
    "sns.countplot(data=df, x=df['weakness'].apply(len))"
   ]
  },
  {
   "cell_type": "code",
   "execution_count": 165,
   "id": "b85ae40d",
   "metadata": {},
   "outputs": [
    {
     "name": "stdout",
     "output_type": "stream",
     "text": [
      "102 out of 151 Pokemons that have less than 4 weaknesses\n"
     ]
    }
   ],
   "source": [
    "# Get all Pokemons that have less than 4 weaknesses\n",
    "less_weakness = df[df['weakness'].apply(len)<4]\n",
    "print(f\"{len(less_weakness)} out of {len(df)} Pokemons that have less than 4 weaknesses\")"
   ]
  },
  {
   "cell_type": "code",
   "execution_count": 166,
   "id": "906af41c",
   "metadata": {},
   "outputs": [
    {
     "data": {
      "text/plain": [
       "([<matplotlib.patches.Wedge at 0x7fadd811cd60>,\n",
       "  <matplotlib.patches.Wedge at 0x7fadd812b4c0>],\n",
       " [Text(-0.1255973168123432, 1.0928061648844867, 'Null'),\n",
       "  Text(0.12559741912824002, -1.0928061531252125, 'Non-Null')],\n",
       " [Text(-0.0685076273521872, 0.5960760899369927, '53.6%'),\n",
       "  Text(0.06850768316085817, -0.5960760835228431, '46.4%')])"
      ]
     },
     "execution_count": 166,
     "metadata": {},
     "output_type": "execute_result"
    },
    {
     "data": {
      "image/png": "[encoded data removed]",
      "text/plain": [
       "<Figure size 640x480 with 1 Axes>"
      ]
     },
     "metadata": {},
     "output_type": "display_data"
    }
   ],
   "source": [
    "# Count the occurrences of null and non-null values\n",
    "null_count = df['multipliers'].isnull().sum()\n",
    "non_null_count = df['multipliers'].notnull().sum()\n",
    "\n",
    "# Plot the pie chart\n",
    "plt.pie([null_count, non_null_count], labels=['Null', 'Non-Null'], autopct='%1.1f%%')"
   ]
  },
  {
   "cell_type": "code",
   "execution_count": 167,
   "id": "3222704d",
   "metadata": {},
   "outputs": [
    {
     "name": "stdout",
     "output_type": "stream",
     "text": [
      "81 out of 151 Pokemons that have no multipliers at all\n"
     ]
    }
   ],
   "source": [
    "# Get all Pokemons that have no multipliers at all\n",
    "null_multipliers = df[df['multipliers'].isna()]\n",
    "print(f\"{len(null_multipliers)} out of {len(df)} Pokemons that have no multipliers at all\")"
   ]
  },
  {
   "cell_type": "code",
   "execution_count": 168,
   "id": "44aa7e48",
   "metadata": {},
   "outputs": [
    {
     "data": {
      "text/plain": [
       "<AxesSubplot:xlabel='next_evolution', ylabel='count'>"
      ]
     },
     "execution_count": 168,
     "metadata": {},
     "output_type": "execute_result"
    },
    {
     "data": {
      "image/png": "[encoded data removed]",
      "text/plain": [
       "<Figure size 640x480 with 1 Axes>"
      ]
     },
     "metadata": {},
     "output_type": "display_data"
    }
   ],
   "source": [
    "sns.countplot(data=df, x=df['next_evolution'].apply(len))"
   ]
  },
  {
   "cell_type": "code",
   "execution_count": 169,
   "id": "cb3c1295",
   "metadata": {},
   "outputs": [
    {
     "name": "stdout",
     "output_type": "stream",
     "text": [
      "1 out of 151 Pokemons that do not have more than 2 evolutions\n"
     ]
    }
   ],
   "source": [
    "# Get all Pokemons that do not have more than 2 evolutions\n",
    "more_next_evolution = df[df['next_evolution'].apply(len)>2]\n",
    "print(f\"{len(more_next_evolution)} out of {len(df)} Pokemons that do not have more than 2 evolutions\")"
   ]
  },
  {
   "cell_type": "code",
   "execution_count": 170,
   "id": "5bc17860",
   "metadata": {},
   "outputs": [],
   "source": [
    "df[['Minutes', 'Second']] = df['spawn_time'].str.split(':', expand=True)\n",
    "# Converting minites and seconds to seconds\n",
    "df['Seconds'] = pd.to_numeric(df['Minutes']) * 60 + pd.to_numeric(df['Second'])"
   ]
  },
  {
   "cell_type": "code",
   "execution_count": 171,
   "id": "ab8aeddb",
   "metadata": {},
   "outputs": [
    {
     "data": {
      "text/plain": [
       "<AxesSubplot:xlabel='Seconds', ylabel='Count'>"
      ]
     },
     "execution_count": 171,
     "metadata": {},
     "output_type": "execute_result"
    },
    {
     "data": {
      "image/png": "[encoded data removed]",
      "text/plain": [
       "<Figure size 640x480 with 1 Axes>"
      ]
     },
     "metadata": {},
     "output_type": "display_data"
    }
   ],
   "source": [
    "sns.histplot(data=df, x=df['Seconds'])"
   ]
  },
  {
   "cell_type": "code",
   "execution_count": 172,
   "id": "d51a0cc3",
   "metadata": {},
   "outputs": [
    {
     "name": "stdout",
     "output_type": "stream",
     "text": [
      "75 out of 151 Pokemons whose spawn time is less than 300 seconds.\n"
     ]
    }
   ],
   "source": [
    "# Get all Pokemons whose spawn time is less than 300 seconds.\n",
    "less_spawn_time = df[df['Seconds']<300]\n",
    "print(f\"{len(less_spawn_time)} out of {len(df)} Pokemons whose spawn time is less than 300 seconds.\")"
   ]
  },
  {
   "cell_type": "code",
   "execution_count": 173,
   "id": "587f57ce",
   "metadata": {},
   "outputs": [
    {
     "data": {
      "text/plain": [
       "<AxesSubplot:xlabel='type', ylabel='count'>"
      ]
     },
     "execution_count": 173,
     "metadata": {},
     "output_type": "execute_result"
    },
    {
     "data": {
      "image/png": "[encoded data removed]",
      "text/plain": [
       "<Figure size 640x480 with 1 Axes>"
      ]
     },
     "metadata": {},
     "output_type": "display_data"
    }
   ],
   "source": [
    "sns.countplot(data=df, x=df['type'].apply(len))"
   ]
  },
  {
   "cell_type": "code",
   "execution_count": 174,
   "id": "1ce9f7b2",
   "metadata": {},
   "outputs": [
    {
     "name": "stdout",
     "output_type": "stream",
     "text": [
      "0 out of 151 Pokemon who have more than two types of capabilities\n"
     ]
    }
   ],
   "source": [
    "# Get all Pokemon who have more than two types of capabilities\n",
    "more_type = df[df['type'].apply(len)>2]\n",
    "print(f\"{len(more_type)} out of {len(df)} Pokemon who have more than two types of capabilities\")"
   ]
  }
 ],
 "metadata": {
  "kernelspec": {
   "display_name": "Python 3 (ipykernel)",
   "language": "python",
   "name": "python3"
  },
  "language_info": {
   "codemirror_mode": {
    "name": "ipython",
    "version": 3
   },
   "file_extension": ".py",
   "mimetype": "text/x-python",
   "name": "python",
   "nbconvert_exporter": "python",
   "pygments_lexer": "ipython3",
   "version": "3.9.13"
  }
 },
 "nbformat": 4,
 "nbformat_minor": 5
}
