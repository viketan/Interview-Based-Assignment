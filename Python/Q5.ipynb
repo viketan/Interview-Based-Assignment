{
 "cells": [
  {
   "cell_type": "markdown",
   "id": "87cd933d",
   "metadata": {},
   "source": [
    "#### Write a program to download the data from the given API link and then extract the following data with\n",
    "proper formatting\n",
    "- Link - http://api.tvmaze.com/singlesearch/shows?q=westworld&embed=episodes \n",
    "- Note - Write proper code comments wherever needed for the code understanding\n",
    "#### Excepted Output Data Attributes -\n",
    "- id - int \n",
    "- url - string\n",
    "- name - string \n",
    "- season - int \n",
    "- number - int\n",
    "- type - string \n",
    "- airdate -date format \n",
    "- airtime - 12-hour time format\n",
    "- runtime - float\n",
    "- average rating - float\n",
    "- summary - string without html tags\n",
    "- medium image link - string\n",
    "- Original image link - string"
   ]
  },
  {
   "cell_type": "code",
   "execution_count": 3,
   "id": "0685807e",
   "metadata": {},
   "outputs": [],
   "source": [
    "import requests\n",
    "from datetime import datetime\n",
    "import re\n",
    "import pandas as pd"
   ]
  },
  {
   "cell_type": "code",
   "execution_count": 4,
   "id": "fdbe9a24",
   "metadata": {},
   "outputs": [],
   "source": [
    "def download_data(url):\n",
    "    response = requests.get(url)  # Send a GET request to the URL\n",
    "    data = response.json()  # Convert the response to JSON format\n",
    "    return data"
   ]
  },
  {
   "cell_type": "code",
   "execution_count": 5,
   "id": "efc2ad90",
   "metadata": {},
   "outputs": [],
   "source": [
    "def extract_data(data):\n",
    "\n",
    "    # Extract episode details\n",
    "    episodes = data['_embedded']['episodes']\n",
    "    extracted_data = []\n",
    "    for episode in episodes:\n",
    "        id = episode['id']\n",
    "        url = episode['url']\n",
    "        name = episode['name']\n",
    "        season = episode['season']\n",
    "        number = episode['number']\n",
    "        type = episode['type']\n",
    "        airdate = datetime.strptime(episode['airdate'], '%Y-%m-%d').date()\n",
    "        airtime = datetime.strptime(episode['airtime'], '%H:%M').strftime('%I:%M %p')\n",
    "        runtime = episode['runtime']\n",
    "        average_rating = episode['rating']['average']\n",
    "        summary = re.sub('<[^>]+>', '', episode['summary'])  # Remove HTML tags from summary\n",
    "        medium_image = episode['image']['medium']\n",
    "        original_image = episode['image']['original']\n",
    "\n",
    "        # Create a dictionary representing extracted data for each episode\n",
    "        extracted_episode = {\n",
    "            'id': id,\n",
    "            'url': url,\n",
    "            'name': name,\n",
    "            'season': season,\n",
    "            'number': number,\n",
    "            'type': type,\n",
    "            'airdate': airdate,\n",
    "            'airtime': airtime,\n",
    "            'runtime': runtime,\n",
    "            'average rating': average_rating,\n",
    "            'summary': summary,\n",
    "            'medium image link': medium_image,\n",
    "            'original image link': original_image\n",
    "        }\n",
    "        extracted_data.append(extracted_episode)\n",
    "\n",
    "    return extracted_data\n"
   ]
  },
  {
   "cell_type": "code",
   "execution_count": 6,
   "id": "dd8b5c90",
   "metadata": {},
   "outputs": [
    {
     "name": "stdout",
     "output_type": "stream",
     "text": [
      "Data saved as 'tvmaze_data.csv'\n"
     ]
    }
   ],
   "source": [
    "# Main program\n",
    "url = 'http://api.tvmaze.com/singlesearch/shows?q=westworld&embed=episodes'\n",
    "data = download_data(url)\n",
    "extracted_data = extract_data(data)\n",
    "\n",
    "# Convert the processed data into a pandas DataFrame\n",
    "df = pd.DataFrame(extracted_data)\n",
    "\n",
    "# Save the DataFrame as a CSV file\n",
    "output_filename = 'tvmaze_data.csv'\n",
    "df.to_csv(output_filename, index=False)\n",
    "\n",
    "print(f\"Data saved as '{output_filename}'\")"
   ]
  },
  {
   "cell_type": "code",
   "execution_count": null,
   "id": "d7a1b26a",
   "metadata": {},
   "outputs": [],
   "source": []
  }
 ],
 "metadata": {
  "kernelspec": {
   "display_name": "Python 3 (ipykernel)",
   "language": "python",
   "name": "python3"
  },
  "language_info": {
   "codemirror_mode": {
    "name": "ipython",
    "version": 3
   },
   "file_extension": ".py",
   "mimetype": "text/x-python",
   "name": "python",
   "nbconvert_exporter": "python",
   "pygments_lexer": "ipython3",
   "version": "3.9.13"
  }
 },
 "nbformat": 4,
 "nbformat_minor": 5
}
