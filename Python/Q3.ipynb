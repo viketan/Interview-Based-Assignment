{
 "cells": [
  {
   "cell_type": "markdown",
   "id": "f3aba4a8",
   "metadata": {},
   "source": [
    "#### Write a program, which would download the data from the provided link, and then read the data and convert that into properly structured data and return it in Excel format.\n",
    "- Note - Write comments wherever necessary explaining the code written.\n",
    "- Link - https://raw.githubusercontent.com/Biuni/PokemonGO-Pokedex/master/pokedex.json Data \n",
    "- Attributes \n",
    "-- id:Identification Number - int \n",
    "-- num: Number of the\n",
    "-- Pokémon in the official Pokédex - int \n",
    "-- name: Pokémon name -string \n",
    "-- img: URL to an image of this Pokémon - string \n",
    "-- type: Pokémon type - string \n",
    "-- height: Pokémon height - float\n",
    "-- weight: Pokémon weight - float \n",
    "-- candy: type of candy used to evolve Pokémon or given when transferred - string \n",
    "-- candy_count: the amount of candies required to evolve - int\n",
    "-- egg: Number of kilometers to travel to hatch the egg - float \n",
    "-- spawn_chance: Percentage of spawn chance (NEW) - float \n",
    "-- avg_spawns: Number of this pokemon on 10.000 spawns (NEW) - int\n",
    "-- spawn_time: Spawns most active at the time on this field. Spawn times are the same for all time zones and are expressed in local time. (NEW) - “minutes: seconds” \n",
    "-- multipliers: Multiplier of Combat Power (CP) for calculating the CP after evolution See below - list of int\n",
    "-- weakness: Types of Pokémon this Pokémon is weak to - list of strings \n",
    "-- next_evolution: Number and Name of successive evolutions of Pokémon - list of dict \n",
    "-- prev_evolution: Number and Name of previous evolutions of Pokémon - - list of dict\n"
   ]
  },
  {
   "cell_type": "code",
   "execution_count": 5,
   "id": "1eb94d4d",
   "metadata": {},
   "outputs": [],
   "source": [
    "import pandas as pd\n",
    "import requests\n",
    "\n",
    "def download_and_convert_to_excel(url, output_file):\n",
    "    # Download the data from the provided link\n",
    "    response = requests.get(url)\n",
    "    data = response.json()\n",
    "\n",
    "    # Extract the required attributes from the data\n",
    "    pokemons = data['pokemon']\n",
    "\n",
    "    # Create a list to store the extracted attributes\n",
    "    extracted_data = []\n",
    "\n",
    "    # Iterate over each Pokemon and extract the required attributes\n",
    "    for pokemon in pokemons:\n",
    "        extracted_data.append({\n",
    "            'id': pokemon['id'],\n",
    "            'num': pokemon['num'],\n",
    "            'name': pokemon['name'],\n",
    "            'img': pokemon['img'],\n",
    "            'type': pokemon['type'],\n",
    "            'height': pokemon['height'],\n",
    "            'weight': pokemon['weight'],\n",
    "            'candy': pokemon.get('candy', ''),\n",
    "            'candy_count': pokemon.get('candy_count', None),\n",
    "            'egg': pokemon.get('egg', ''),\n",
    "            'spawn_chance': pokemon.get('spawn_chance', None),\n",
    "            'avg_spawns': pokemon.get('avg_spawns', None),\n",
    "            'spawn_time': pokemon.get('spawn_time', None),\n",
    "            'multipliers': pokemon.get('multipliers', []),\n",
    "            'weakness': pokemon.get('weaknesses', None),\n",
    "            'next_evolution': pokemon.get('next_evolution', []),\n",
    "            'prev_evolution': pokemon.get('prev_evolution', [])\n",
    "        })\n",
    "\n",
    "    # Convert the extracted data into a DataFrame\n",
    "    df = pd.DataFrame(extracted_data)\n",
    "\n",
    "    # Save the DataFrame to Excel file\n",
    "    df.to_excel(output_file, index=False)\n",
    "\n",
    "# Example usage\n",
    "url = 'https://raw.githubusercontent.com/Biuni/PokemonGO-Pokedex/master/pokedex.json'\n",
    "output_file = 'pokemon_data.xlsx'\n",
    "download_and_convert_to_excel(url, output_file)\n"
   ]
  },
  {
   "cell_type": "code",
   "execution_count": null,
   "id": "327016e8",
   "metadata": {},
   "outputs": [],
   "source": []
  }
 ],
 "metadata": {
  "kernelspec": {
   "display_name": "Python 3 (ipykernel)",
   "language": "python",
   "name": "python3"
  },
  "language_info": {
   "codemirror_mode": {
    "name": "ipython",
    "version": 3
   },
   "file_extension": ".py",
   "mimetype": "text/x-python",
   "name": "python",
   "nbconvert_exporter": "python",
   "pygments_lexer": "ipython3",
   "version": "3.9.13"
  }
 },
 "nbformat": 4,
 "nbformat_minor": 5
}
