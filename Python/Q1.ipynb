{
 "cells": [
  {
   "cell_type": "markdown",
   "id": "47447424",
   "metadata": {},
   "source": [
    "#### Write a program that takes a string as input, and counts the frequency of each word in the string, there might be repeated characters in the string. Your task is to find the highest frequency and returns the length of the highest-frequency word.\n",
    "- Note - You have to write at least 2 additional test cases in which your program will run successfully and provide an explanation for the same.\n",
    "- Example input - string = “write write write all the number from from from 1 to 100” Example output - 5\n",
    "- Explanation - From the given string we can note that the most frequent words are “write” and “from” and the maximum value of both the values is “write” and its corresponding length is 5\n"
   ]
  },
  {
   "cell_type": "code",
   "execution_count": 14,
   "id": "cfda8696",
   "metadata": {},
   "outputs": [],
   "source": [
    "def get_highest_frequency_word_length(sentence):\n",
    "    # split the sentence into list of words\n",
    "    words = sentence.split(' ')\n",
    "    # count the frequency of each word\n",
    "    word_dict = {}\n",
    "    for word in words:\n",
    "        if word in word_dict.keys():\n",
    "            word_dict[word] = word_dict[word]+1\n",
    "        else:\n",
    "            word_dict[word] = 1\n",
    "    #Find the length of the highest-frequency word\n",
    "    length = len(max(word_dict, key=word_dict.get))\n",
    "    return length"
   ]
  },
  {
   "cell_type": "markdown",
   "id": "ec2a74df",
   "metadata": {},
   "source": [
    "#### Test Case 1:\n",
    "- input: write write write all the number from from from 1 to 100"
   ]
  },
  {
   "cell_type": "code",
   "execution_count": 10,
   "id": "b137b9ef",
   "metadata": {},
   "outputs": [
    {
     "name": "stdout",
     "output_type": "stream",
     "text": [
      "Enter the Sentence: write write write all the number from from from 1 to 100\n",
      "5\n"
     ]
    }
   ],
   "source": [
    "sentence = input(\"Enter the Sentence: \")\n",
    "print(get_highest_frequency_word_length(sentence))"
   ]
  },
  {
   "cell_type": "markdown",
   "id": "2f74bec1",
   "metadata": {},
   "source": [
    "#### Test Case 2:\n",
    "-input: No heart is so hard as the timid heart"
   ]
  },
  {
   "cell_type": "code",
   "execution_count": 12,
   "id": "c1f8f22c",
   "metadata": {},
   "outputs": [
    {
     "name": "stdout",
     "output_type": "stream",
     "text": [
      "Enter the Sentence: No heart is so hard as the timid heart\n",
      "5\n"
     ]
    }
   ],
   "source": [
    "sentence = input(\"Enter the Sentence: \")\n",
    "print(get_highest_frequency_word_length(sentence))"
   ]
  },
  {
   "cell_type": "markdown",
   "id": "80227bfe",
   "metadata": {},
   "source": [
    "#### Explaination\n",
    "- output:5. From the given string we can note that the most frequent word is “heart” and its length is 5."
   ]
  },
  {
   "cell_type": "markdown",
   "id": "c332c641",
   "metadata": {},
   "source": [
    "#### Test case 3:\n",
    "- input: I felt happy because I saw the others were happy and because I knew I should feel happy, but I wasn’t really happy"
   ]
  },
  {
   "cell_type": "code",
   "execution_count": 13,
   "id": "28eba77a",
   "metadata": {},
   "outputs": [
    {
     "name": "stdout",
     "output_type": "stream",
     "text": [
      "Enter the Sentence: I felt happy because I saw the others were happy and because I knew I should feel happy, but I wasn’t really happy\n",
      "1\n"
     ]
    }
   ],
   "source": [
    "sentence = input(\"Enter the Sentence: \")\n",
    "print(get_highest_frequency_word_length(sentence))"
   ]
  },
  {
   "cell_type": "markdown",
   "id": "fec089f6",
   "metadata": {},
   "source": [
    "#### Explaination\n",
    "output:1. From the given string we can note that the most frequent word is “I” and its length is 1."
   ]
  },
  {
   "cell_type": "code",
   "execution_count": null,
   "id": "5b7e4922",
   "metadata": {},
   "outputs": [],
   "source": []
  }
 ],
 "metadata": {
  "kernelspec": {
   "display_name": "Python 3 (ipykernel)",
   "language": "python",
   "name": "python3"
  },
  "language_info": {
   "codemirror_mode": {
    "name": "ipython",
    "version": 3
   },
   "file_extension": ".py",
   "mimetype": "text/x-python",
   "name": "python",
   "nbconvert_exporter": "python",
   "pygments_lexer": "ipython3",
   "version": "3.9.13"
  }
 },
 "nbformat": 4,
 "nbformat_minor": 5
}
