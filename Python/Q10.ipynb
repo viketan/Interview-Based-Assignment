{
 "cells": [
  {
   "cell_type": "markdown",
   "id": "0f40c0a3",
   "metadata": {},
   "source": [
    "#### Write a program to count the number of verbs, nouns, pronouns, and adjectives in a given particular phrase or paragraph, and return their respective count as a dictionary.\n",
    "### Note -\n",
    "1. Write code comments wherever required for code\n",
    "2. You have to write at least 2 additional test cases in which your program will run successfully and provide an explanation for the same."
   ]
  },
  {
   "cell_type": "code",
   "execution_count": 1,
   "id": "9208475c",
   "metadata": {},
   "outputs": [],
   "source": [
    "import nltk\n",
    "from nltk import pos_tag\n",
    "from nltk.tokenize import word_tokenize"
   ]
  },
  {
   "cell_type": "code",
   "execution_count": 2,
   "id": "b3d97dc2",
   "metadata": {},
   "outputs": [],
   "source": [
    "def count_pos_tags(text):\n",
    "    # Tokenize the text into words\n",
    "    words = word_tokenize(text)\n",
    "\n",
    "    # Perform part-of-speech tagging\n",
    "    tagged_words = pos_tag(words)\n",
    "\n",
    "    # Initialize count variables\n",
    "    counts = {'Noun': 0, 'Verb': 0, 'Pronoun': 0, 'Adjective': 0}\n",
    "\n",
    "    # Count the number of each part-of-speech tag\n",
    "    for word, tag in tagged_words:\n",
    "        if tag.startswith('N'):  # Noun\n",
    "            counts['Noun'] += 1\n",
    "        elif tag.startswith('V'):  # Verb\n",
    "            counts['Verb'] += 1\n",
    "        elif tag.startswith('PRP'):  # Pronoun\n",
    "            counts['Pronoun'] += 1\n",
    "        elif tag.startswith('JJ'):  # Adjective\n",
    "            counts['Adjective'] += 1\n",
    "\n",
    "    return counts"
   ]
  },
  {
   "cell_type": "code",
   "execution_count": 3,
   "id": "9c709b57",
   "metadata": {},
   "outputs": [
    {
     "name": "stdout",
     "output_type": "stream",
     "text": [
      "{'Noun': 1, 'Verb': 2, 'Pronoun': 1, 'Adjective': 0}\n",
      "{'Noun': 3, 'Verb': 1, 'Pronoun': 0, 'Adjective': 2}\n"
     ]
    }
   ],
   "source": [
    "# Test cases\n",
    "text1 = \"I love eating pizza.\"\n",
    "text2 = \"The quick brown fox jumps over the lazy dog.\"\n",
    "\n",
    "# Count part-of-speech tags in text1\n",
    "counts1 = count_pos_tags(text1)\n",
    "print(counts1) \n",
    "\n",
    "# Count part-of-speech tags in text2\n",
    "counts2 = count_pos_tags(text2)\n",
    "print(counts2)"
   ]
  },
  {
   "cell_type": "code",
   "execution_count": null,
   "id": "df1aa09d",
   "metadata": {},
   "outputs": [],
   "source": []
  }
 ],
 "metadata": {
  "kernelspec": {
   "display_name": "Python 3 (ipykernel)",
   "language": "python",
   "name": "python3"
  },
  "language_info": {
   "codemirror_mode": {
    "name": "ipython",
    "version": 3
   },
   "file_extension": ".py",
   "mimetype": "text/x-python",
   "name": "python",
   "nbconvert_exporter": "python",
   "pygments_lexer": "ipython3",
   "version": "3.9.13"
  }
 },
 "nbformat": 4,
 "nbformat_minor": 5
}
