{
 "cells": [
  {
   "cell_type": "markdown",
   "id": "e0c9b3e2",
   "metadata": {},
   "source": [
    "#### Using the data from Question 5, write code the analyze the data and answer the following questions \n",
    "#### Note \n",
    "- 1. Draw plots to demonstrate the analysis for the following questions and better visualizations \n",
    "-2. Write code comments wherever required for code understanding\n",
    "#### Insights to be drawn -\n",
    "- Get all the overall ratings for each season and using plots compare the ratings for all the seasons, like season 1 ratings, season 2, and so on.\n",
    "- Get all the episode names, whose average rating is more than 8 for every season\n",
    "- Get all the episode names that aired before May 2019\n",
    "- Get the episode name from each season with the highest and lowest rating\n",
    "- Get the summary for the most popular ( ratings ) episode in every season\n"
   ]
  },
  {
   "cell_type": "code",
   "execution_count": 37,
   "id": "9aef6978",
   "metadata": {},
   "outputs": [],
   "source": [
    "import pandas as pd\n",
    "import numpy as np\n",
    "import seaborn as sns\n",
    "import matplotlib.pyplot as plt\n",
    "import warnings\n",
    "warnings.filterwarnings('ignore')\n",
    "%matplotlib inline"
   ]
  },
  {
   "cell_type": "code",
   "execution_count": 38,
   "id": "8371e1f5",
   "metadata": {},
   "outputs": [
    {
     "data": {
      "text/html": [
       "<div>\n",
       "<style scoped>\n",
       "    .dataframe tbody tr th:only-of-type {\n",
       "        vertical-align: middle;\n",
       "    }\n",
       "\n",
       "    .dataframe tbody tr th {\n",
       "        vertical-align: top;\n",
       "    }\n",
       "\n",
       "    .dataframe thead th {\n",
       "        text-align: right;\n",
       "    }\n",
       "</style>\n",
       "<table border=\"1\" class=\"dataframe\">\n",
       "  <thead>\n",
       "    <tr style=\"text-align: right;\">\n",
       "      <th></th>\n",
       "      <th>id</th>\n",
       "      <th>url</th>\n",
       "      <th>name</th>\n",
       "      <th>season</th>\n",
       "      <th>number</th>\n",
       "      <th>type</th>\n",
       "      <th>airdate</th>\n",
       "      <th>airtime</th>\n",
       "      <th>runtime</th>\n",
       "      <th>average rating</th>\n",
       "      <th>summary</th>\n",
       "      <th>medium image link</th>\n",
       "      <th>original image link</th>\n",
       "    </tr>\n",
       "  </thead>\n",
       "  <tbody>\n",
       "    <tr>\n",
       "      <th>0</th>\n",
       "      <td>869671</td>\n",
       "      <td>https://www.tvmaze.com/episodes/869671/westwor...</td>\n",
       "      <td>The Original</td>\n",
       "      <td>1</td>\n",
       "      <td>1</td>\n",
       "      <td>regular</td>\n",
       "      <td>2016-10-02</td>\n",
       "      <td>09:00 PM</td>\n",
       "      <td>68</td>\n",
       "      <td>8.0</td>\n",
       "      <td>A woman named Dolores is a free spirit in the ...</td>\n",
       "      <td>https://static.tvmaze.com/uploads/images/mediu...</td>\n",
       "      <td>https://static.tvmaze.com/uploads/images/origi...</td>\n",
       "    </tr>\n",
       "    <tr>\n",
       "      <th>1</th>\n",
       "      <td>911201</td>\n",
       "      <td>https://www.tvmaze.com/episodes/911201/westwor...</td>\n",
       "      <td>Chestnut</td>\n",
       "      <td>1</td>\n",
       "      <td>2</td>\n",
       "      <td>regular</td>\n",
       "      <td>2016-10-09</td>\n",
       "      <td>09:00 PM</td>\n",
       "      <td>60</td>\n",
       "      <td>7.7</td>\n",
       "      <td>Bernard suspects that someone is sabotaging th...</td>\n",
       "      <td>https://static.tvmaze.com/uploads/images/mediu...</td>\n",
       "      <td>https://static.tvmaze.com/uploads/images/origi...</td>\n",
       "    </tr>\n",
       "    <tr>\n",
       "      <th>2</th>\n",
       "      <td>911204</td>\n",
       "      <td>https://www.tvmaze.com/episodes/911204/westwor...</td>\n",
       "      <td>The Stray</td>\n",
       "      <td>1</td>\n",
       "      <td>3</td>\n",
       "      <td>regular</td>\n",
       "      <td>2016-10-16</td>\n",
       "      <td>09:00 PM</td>\n",
       "      <td>60</td>\n",
       "      <td>7.6</td>\n",
       "      <td>Bernard continues to investigate Dolores' supp...</td>\n",
       "      <td>https://static.tvmaze.com/uploads/images/mediu...</td>\n",
       "      <td>https://static.tvmaze.com/uploads/images/origi...</td>\n",
       "    </tr>\n",
       "    <tr>\n",
       "      <th>3</th>\n",
       "      <td>911205</td>\n",
       "      <td>https://www.tvmaze.com/episodes/911205/westwor...</td>\n",
       "      <td>Dissonance Theory</td>\n",
       "      <td>1</td>\n",
       "      <td>4</td>\n",
       "      <td>regular</td>\n",
       "      <td>2016-10-23</td>\n",
       "      <td>09:00 PM</td>\n",
       "      <td>60</td>\n",
       "      <td>7.9</td>\n",
       "      <td>While Dolores joins William and Logan on their...</td>\n",
       "      <td>https://static.tvmaze.com/uploads/images/mediu...</td>\n",
       "      <td>https://static.tvmaze.com/uploads/images/origi...</td>\n",
       "    </tr>\n",
       "    <tr>\n",
       "      <th>4</th>\n",
       "      <td>927174</td>\n",
       "      <td>https://www.tvmaze.com/episodes/927174/westwor...</td>\n",
       "      <td>Contrapasso</td>\n",
       "      <td>1</td>\n",
       "      <td>5</td>\n",
       "      <td>regular</td>\n",
       "      <td>2016-10-30</td>\n",
       "      <td>09:00 PM</td>\n",
       "      <td>60</td>\n",
       "      <td>8.0</td>\n",
       "      <td>Dolores takes the first step on her path of di...</td>\n",
       "      <td>https://static.tvmaze.com/uploads/images/mediu...</td>\n",
       "      <td>https://static.tvmaze.com/uploads/images/origi...</td>\n",
       "    </tr>\n",
       "  </tbody>\n",
       "</table>\n",
       "</div>"
      ],
      "text/plain": [
       "       id                                                url  \\\n",
       "0  869671  https://www.tvmaze.com/episodes/869671/westwor...   \n",
       "1  911201  https://www.tvmaze.com/episodes/911201/westwor...   \n",
       "2  911204  https://www.tvmaze.com/episodes/911204/westwor...   \n",
       "3  911205  https://www.tvmaze.com/episodes/911205/westwor...   \n",
       "4  927174  https://www.tvmaze.com/episodes/927174/westwor...   \n",
       "\n",
       "                name  season  number     type     airdate   airtime  runtime  \\\n",
       "0       The Original       1       1  regular  2016-10-02  09:00 PM       68   \n",
       "1           Chestnut       1       2  regular  2016-10-09  09:00 PM       60   \n",
       "2          The Stray       1       3  regular  2016-10-16  09:00 PM       60   \n",
       "3  Dissonance Theory       1       4  regular  2016-10-23  09:00 PM       60   \n",
       "4        Contrapasso       1       5  regular  2016-10-30  09:00 PM       60   \n",
       "\n",
       "   average rating                                            summary  \\\n",
       "0             8.0  A woman named Dolores is a free spirit in the ...   \n",
       "1             7.7  Bernard suspects that someone is sabotaging th...   \n",
       "2             7.6  Bernard continues to investigate Dolores' supp...   \n",
       "3             7.9  While Dolores joins William and Logan on their...   \n",
       "4             8.0  Dolores takes the first step on her path of di...   \n",
       "\n",
       "                                   medium image link  \\\n",
       "0  https://static.tvmaze.com/uploads/images/mediu...   \n",
       "1  https://static.tvmaze.com/uploads/images/mediu...   \n",
       "2  https://static.tvmaze.com/uploads/images/mediu...   \n",
       "3  https://static.tvmaze.com/uploads/images/mediu...   \n",
       "4  https://static.tvmaze.com/uploads/images/mediu...   \n",
       "\n",
       "                                 original image link  \n",
       "0  https://static.tvmaze.com/uploads/images/origi...  \n",
       "1  https://static.tvmaze.com/uploads/images/origi...  \n",
       "2  https://static.tvmaze.com/uploads/images/origi...  \n",
       "3  https://static.tvmaze.com/uploads/images/origi...  \n",
       "4  https://static.tvmaze.com/uploads/images/origi...  "
      ]
     },
     "execution_count": 38,
     "metadata": {},
     "output_type": "execute_result"
    }
   ],
   "source": [
    "df = pd.read_csv('tvmaze_data.csv')\n",
    "df.head()"
   ]
  },
  {
   "cell_type": "code",
   "execution_count": 39,
   "id": "37bc7b57",
   "metadata": {},
   "outputs": [],
   "source": [
    "# Group by 'Season' and calculate average rating\n",
    "average_rating = df.groupby('season')['average rating'].mean()"
   ]
  },
  {
   "cell_type": "code",
   "execution_count": 40,
   "id": "2d63f863",
   "metadata": {},
   "outputs": [
    {
     "data": {
      "image/png": "[encoded data removed]",
      "text/plain": [
       "<Figure size 640x480 with 1 Axes>"
      ]
     },
     "metadata": {},
     "output_type": "display_data"
    }
   ],
   "source": [
    "# Plot the bar plot\n",
    "ax = average_rating.plot(kind='bar')\n",
    "\n",
    "# Add labels and title\n",
    "plt.xlabel('Season')\n",
    "plt.ylabel('Average Rating')\n",
    "plt.title('Average Rating by Season')\n",
    "# Add value labels on top of each bar\n",
    "for i, v in enumerate(average_rating):\n",
    "    ax.text(i, v, str(v), ha='center', va='bottom')"
   ]
  },
  {
   "cell_type": "markdown",
   "id": "4a446350",
   "metadata": {},
   "source": [
    "#### Insight\n",
    "- Season 1 got the highest rating. \n",
    "- Trend is declining from season1 to season 4."
   ]
  },
  {
   "cell_type": "code",
   "execution_count": 42,
   "id": "5b6eba89",
   "metadata": {},
   "outputs": [
    {
     "data": {
      "text/plain": [
       "[<matplotlib.lines.Line2D at 0x7f7cb8577af0>]"
      ]
     },
     "execution_count": 42,
     "metadata": {},
     "output_type": "execute_result"
    },
    {
     "data": {
      "image/png": "[encoded data removed]",
      "text/plain": [
       "<Figure size 640x480 with 1 Axes>"
      ]
     },
     "metadata": {},
     "output_type": "display_data"
    }
   ],
   "source": [
    "plt.plot(df['average rating'])"
   ]
  },
  {
   "cell_type": "code",
   "execution_count": 55,
   "id": "df57d4fa",
   "metadata": {},
   "outputs": [
    {
     "name": "stdout",
     "output_type": "stream",
     "text": [
      "6 is out 36 are he episode names, whose average rating is more than 8 for every season\n"
     ]
    },
    {
     "data": {
      "text/plain": [
       "6                 Trompe L'Oeil\n",
       "8     The Well-Tempered Clavier\n",
       "9            The Bicameral Mind\n",
       "17                      Kiksuya\n",
       "18              Vanishing Point\n",
       "19                The Passenger\n",
       "Name: name, dtype: object"
      ]
     },
     "execution_count": 55,
     "metadata": {},
     "output_type": "execute_result"
    }
   ],
   "source": [
    "# Get all the episode names, whose average rating is more than 8 for every season\n",
    "names_of_best_rating = df[df['average rating']>8]['name']\n",
    "print(f\"{len(names_of_best_rating)} is out {len(df) } are he episode names, whose average rating is more than 8 for every season\")\n",
    "names_of_best_rating"
   ]
  },
  {
   "cell_type": "code",
   "execution_count": 57,
   "id": "88843c0f",
   "metadata": {},
   "outputs": [
    {
     "name": "stdout",
     "output_type": "stream",
     "text": [
      "20 is out 36 the episode names that aired before May 2019\n"
     ]
    },
    {
     "data": {
      "text/plain": [
       "0                  The Original\n",
       "1                      Chestnut\n",
       "2                     The Stray\n",
       "3             Dissonance Theory\n",
       "4                   Contrapasso\n",
       "5                 The Adversary\n",
       "6                 Trompe L'Oeil\n",
       "7                   Trace Decay\n",
       "8     The Well-Tempered Clavier\n",
       "9            The Bicameral Mind\n",
       "10           Journey Into Night\n",
       "11                      Reunion\n",
       "12              Virtù e Fortuna\n",
       "13     The Riddle of the Sphinx\n",
       "14                 Akane No Mai\n",
       "15                  Phase Space\n",
       "16                 Les Écorchés\n",
       "17                      Kiksuya\n",
       "18              Vanishing Point\n",
       "19                The Passenger\n",
       "Name: name, dtype: object"
      ]
     },
     "execution_count": 57,
     "metadata": {},
     "output_type": "execute_result"
    }
   ],
   "source": [
    "# Get all the episode names that aired before May 2019\n",
    "df['airdate']=pd.to_datetime(df['airdate'], format='%Y/%m/%d')\n",
    "filtered_episodes = df[df['airdate'] < '2019-05-01']['name']\n",
    "print(f\"{len(filtered_episodes)} is out {len(df) } the episode names that aired before May 2019\")\n",
    "filtered_episodes"
   ]
  },
  {
   "cell_type": "code",
   "execution_count": 70,
   "id": "e95eec41",
   "metadata": {},
   "outputs": [
    {
     "name": "stdout",
     "output_type": "stream",
     "text": [
      "   Season Episode with Highest Rating Episode with Lowest Rating\n",
      "0       1          The Bicameral Mind                  The Stray\n",
      "1       2                     Kiksuya               Akane No Mai\n",
      "2       3                Parce Domine                Decoherence\n",
      "3       4                    Zhuangzi               The Auguries\n"
     ]
    }
   ],
   "source": [
    "# Get the episode name with the highest rating for each season\n",
    "highest_rating = df.loc[df.groupby('season')['average rating'].idxmax(), ['season', 'name']]\n",
    "highest_rating.columns = ['Season', 'Episode with Highest Rating']\n",
    "\n",
    "# Get the episode name with the lowest rating for each season\n",
    "lowest_rating = df.loc[df.groupby('season')['average rating'].idxmin(), ['season', 'name']]\n",
    "lowest_rating.columns = ['Season', 'Episode with Lowest Rating']\n",
    "\n",
    "# Merge the results into a single DataFrame\n",
    "result = pd.merge(highest_rating, lowest_rating, on='Season')\n",
    "\n",
    "# Display the result\n",
    "print(result)"
   ]
  },
  {
   "cell_type": "code",
   "execution_count": 72,
   "id": "c21133e2",
   "metadata": {},
   "outputs": [
    {
     "name": "stdout",
     "output_type": "stream",
     "text": [
      "9     Delores finds out the truth about William's fa...\n",
      "17    Another of Westworld's Host revolutionaries is...\n",
      "20    If you're stuck in a loop, try walking in a st...\n",
      "32                                        God is bored.\n",
      "Name: summary, dtype: object\n"
     ]
    }
   ],
   "source": [
    "# Get the index of the highest-rated episode in each season\n",
    "max_rating_indices = df.groupby('season')['average rating'].idxmax()\n",
    "\n",
    "# Select the corresponding rows based on the indices\n",
    "most_popular_episodes = df.loc[max_rating_indices]\n",
    "\n",
    "# Display the summary for the most popular episodes\n",
    "print(most_popular_episodes['summary'])"
   ]
  },
  {
   "cell_type": "code",
   "execution_count": null,
   "id": "9686bf04",
   "metadata": {},
   "outputs": [],
   "source": []
  }
 ],
 "metadata": {
  "kernelspec": {
   "display_name": "Python 3 (ipykernel)",
   "language": "python",
   "name": "python3"
  },
  "language_info": {
   "codemirror_mode": {
    "name": "ipython",
    "version": 3
   },
   "file_extension": ".py",
   "mimetype": "text/x-python",
   "name": "python",
   "nbconvert_exporter": "python",
   "pygments_lexer": "ipython3",
   "version": "3.9.13"
  }
 },
 "nbformat": 4,
 "nbformat_minor": 5
}
