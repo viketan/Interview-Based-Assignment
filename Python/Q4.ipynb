{
 "cells": [
  {
   "cell_type": "markdown",
   "id": "3e31141b",
   "metadata": {},
   "source": [
    "#### Write a program to download the data from the link given below and then read the data and convert the into the proper structure and return it as a CSV file.\n",
    "- Link - https://data.nasa.gov/resource/y77d-th95.json\n",
    "- Note - Write code comments wherever needed for code understanding.\n",
    "#### Excepted Output Data Attributes\n",
    "- Name of Earth Meteorite - string \n",
    "- id - ID of Earth Meteorite - int \n",
    "- nametype - string \n",
    "- recclass - string\n",
    "- mass - Mass of Earth Meteorite - float \n",
    "- year - Year at which Earth\n",
    "- Meteorite was hit - datetime format \n",
    "- reclat - float \n",
    "- recclong - float\n",
    "- point coordinates - list of int"
   ]
  },
  {
   "cell_type": "code",
   "execution_count": 1,
   "id": "507a2a5a",
   "metadata": {},
   "outputs": [],
   "source": [
    "import pandas as pd\n",
    "import requests\n",
    "from datetime import datetime"
   ]
  },
  {
   "cell_type": "code",
   "execution_count": 2,
   "id": "8ad943d0",
   "metadata": {},
   "outputs": [],
   "source": [
    "def download_data(url):\n",
    "    response = requests.get(url)  # Send a GET request to the URL\n",
    "    data = response.json()  # Convert the response to JSON format\n",
    "    return data"
   ]
  },
  {
   "cell_type": "code",
   "execution_count": 3,
   "id": "d5f7eba0",
   "metadata": {},
   "outputs": [],
   "source": [
    "def process_data(data):\n",
    "    processed_data = []\n",
    "    for item in data:\n",
    "        # Extract the required attributes from each item\n",
    "        name = item['name']\n",
    "        id = item['id']\n",
    "        nametype = item['nametype']\n",
    "        recclass = item['recclass']\n",
    "        mass = float(item['mass']) if 'mass' in item else None\n",
    "        if 'year'in item.keys():\n",
    "            year_str = item['year']\n",
    "            hit = datetime.strptime(year_str, '%Y-%m-%dT%H:%M:%S.%f')\n",
    "            year = hit.year\n",
    "        else:\n",
    "            hit = None\n",
    "            year = None\n",
    "        reclat = float(item['reclat']) if 'reclat' in item else None\n",
    "        reclong = float(item['reclong']) if 'reclong' in item else None\n",
    "        if 'geolocation' in item.keys():\n",
    "            coordinates = item['geolocation']['coordinates']\n",
    "        else:\n",
    "            coorinates = None\n",
    "\n",
    "        # Create a dictionary representing a row of the data\n",
    "        row = {\n",
    "            'Name of Earth Meteorite': name,\n",
    "            'id': id,\n",
    "            'nametype': nametype,\n",
    "            'recclass': recclass,\n",
    "            'mass': mass,\n",
    "            'hit': hit,\n",
    "            'year': year,\n",
    "            'reclat': reclat,\n",
    "            'reclong': reclong,\n",
    "            'point coordinates': coordinates\n",
    "        }\n",
    "        processed_data.append(row)\n",
    "\n",
    "    return processed_data"
   ]
  },
  {
   "cell_type": "code",
   "execution_count": 4,
   "id": "12f43071",
   "metadata": {},
   "outputs": [
    {
     "name": "stdout",
     "output_type": "stream",
     "text": [
      "Data saved as 'meteorite_data.csv'\n"
     ]
    }
   ],
   "source": [
    "# Main program\n",
    "url = 'https://data.nasa.gov/resource/y77d-th95.json'\n",
    "data = download_data(url)\n",
    "processed_data = process_data(data)\n",
    "\n",
    "# Convert the processed data into a pandas DataFrame\n",
    "df = pd.DataFrame(processed_data)\n",
    "\n",
    "# Save the DataFrame as a CSV file\n",
    "output_filename = 'meteorite_data.csv'\n",
    "df.to_csv(output_filename, index=False)\n",
    "\n",
    "print(f\"Data saved as '{output_filename}'\")\n"
   ]
  },
  {
   "cell_type": "code",
   "execution_count": null,
   "id": "effb9ad9",
   "metadata": {},
   "outputs": [],
   "source": []
  }
 ],
 "metadata": {
  "kernelspec": {
   "display_name": "Python 3 (ipykernel)",
   "language": "python",
   "name": "python3"
  },
  "language_info": {
   "codemirror_mode": {
    "name": "ipython",
    "version": 3
   },
   "file_extension": ".py",
   "mimetype": "text/x-python",
   "name": "python",
   "nbconvert_exporter": "python",
   "pygments_lexer": "ipython3",
   "version": "3.9.13"
  }
 },
 "nbformat": 4,
 "nbformat_minor": 5
}
