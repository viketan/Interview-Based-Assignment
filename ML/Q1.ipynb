{
 "cells": [
  {
   "cell_type": "markdown",
   "id": "593b9c38",
   "metadata": {},
   "source": [
    " Imagine you have a dataset where you have different Instagram features like username , Caption , Hashtag , Followers , Time_Since_posted , and likes , now your task is to predict the number of likes and Time Since posted and the rest of the features are your input features. Now you have to build a model which can predict the number of likes and Time Since posted."
   ]
  },
  {
   "cell_type": "code",
   "execution_count": 1,
   "id": "ade1a8f4",
   "metadata": {},
   "outputs": [],
   "source": [
    "import pandas as pd\n",
    "import warnings\n",
    "import re\n",
    "import nltk\n",
    "from nltk.corpus import stopwords\n",
    "from nltk.stem import WordNetLemmatizer\n",
    "from sklearn.feature_extraction.text import CountVectorizer\n",
    "from sklearn.preprocessing import LabelEncoder\n",
    "from sklearn.model_selection import train_test_split\n",
    "from sklearn.naive_bayes import MultinomialNB\n",
    "from sklearn.metrics import accuracy_score\n",
    "import pickle\n",
    "import numpy as np\n",
    "warnings.filterwarnings(\"ignore\")"
   ]
  },
  {
   "cell_type": "code",
   "execution_count": 2,
   "id": "cceb799d",
   "metadata": {},
   "outputs": [
    {
     "data": {
      "text/plain": [
       "(100, 8)"
      ]
     },
     "execution_count": 2,
     "metadata": {},
     "output_type": "execute_result"
    }
   ],
   "source": [
    "df = pd.read_csv(\"../data/instagram_reach.csv\")\n",
    "df.shape"
   ]
  },
  {
   "cell_type": "code",
   "execution_count": 3,
   "id": "8a3ee066",
   "metadata": {},
   "outputs": [
    {
     "data": {
      "text/plain": [
       "0     Who are #DataScientist and what do they do? >>...\n",
       "1     We all know where it’s going. We just have to ...\n",
       "2     Alexander Barinov: 4 years as CFO in multinati...\n",
       "3     sfad#iot #cre#workplace #CDO #bigdata #technol...\n",
       "4     Ever missed a call while your phone was chargi...\n",
       "                            ...                        \n",
       "95    328 S. Wetherly Drive, Beverly Hills, CA 90212...\n",
       "96    Credit @tristankappel To find more dvlp follow...\n",
       "97    We are coming up with the Best 21 Books that w...\n",
       "98    We’re only paid to move dirt once. It’s not ju...\n",
       "99    Obtén tu tienda en línea ahora.#marketing #pro...\n",
       "Name: text, Length: 100, dtype: object"
      ]
     },
     "execution_count": 3,
     "metadata": {},
     "output_type": "execute_result"
    }
   ],
   "source": [
    "df['text'] = df['Caption']+df['Hashtags']\n",
    "df['text'] = df['text'].astype(str)\n",
    "df['text']"
   ]
  },
  {
   "cell_type": "code",
   "execution_count": 4,
   "id": "978baecb",
   "metadata": {},
   "outputs": [],
   "source": [
    "lemmatizer = WordNetLemmatizer()\n",
    "corpus = []\n",
    "\n",
    "for i in range(len(df)):\n",
    "    text = re.sub('[^a-zA-Z]', '', df['text'][i])\n",
    "    text = text.lower()\n",
    "    text = nltk.word_tokenize(text)\n",
    "    text = [lemmatizer.lemmatize(word) for word in text if not word in set(\n",
    "        stopwords.words('english'))]\n",
    "    text = ' '.join(text)\n",
    "    corpus.append(text)"
   ]
  },
  {
   "cell_type": "code",
   "execution_count": 5,
   "id": "05dcf3f9",
   "metadata": {},
   "outputs": [],
   "source": [
    "cv = CountVectorizer(max_features=7000)\n",
    "X_BOW = cv.fit_transform(corpus)"
   ]
  },
  {
   "cell_type": "code",
   "execution_count": 6,
   "id": "ae6323e7",
   "metadata": {},
   "outputs": [],
   "source": [
    "from scipy.sparse import csr_matrix\n",
    "# Create a DataFrame from the sparse matrix\n",
    "df_sparse = pd.DataFrame.sparse.from_spmatrix(X_BOW)"
   ]
  },
  {
   "cell_type": "code",
   "execution_count": 7,
   "id": "ea45263d",
   "metadata": {},
   "outputs": [
    {
     "data": {
      "text/html": [
       "<div>\n",
       "<style scoped>\n",
       "    .dataframe tbody tr th:only-of-type {\n",
       "        vertical-align: middle;\n",
       "    }\n",
       "\n",
       "    .dataframe tbody tr th {\n",
       "        vertical-align: top;\n",
       "    }\n",
       "\n",
       "    .dataframe thead th {\n",
       "        text-align: right;\n",
       "    }\n",
       "</style>\n",
       "<table border=\"1\" class=\"dataframe\">\n",
       "  <thead>\n",
       "    <tr style=\"text-align: right;\">\n",
       "      <th></th>\n",
       "      <th>0</th>\n",
       "      <th>1</th>\n",
       "      <th>2</th>\n",
       "      <th>3</th>\n",
       "      <th>4</th>\n",
       "      <th>5</th>\n",
       "      <th>6</th>\n",
       "      <th>7</th>\n",
       "      <th>8</th>\n",
       "      <th>9</th>\n",
       "      <th>...</th>\n",
       "      <th>94</th>\n",
       "      <th>95</th>\n",
       "      <th>96</th>\n",
       "      <th>97</th>\n",
       "      <th>98</th>\n",
       "      <th>99</th>\n",
       "      <th>100</th>\n",
       "      <th>101</th>\n",
       "      <th>102</th>\n",
       "      <th>103</th>\n",
       "    </tr>\n",
       "  </thead>\n",
       "  <tbody>\n",
       "    <tr>\n",
       "      <th>0</th>\n",
       "      <td>0</td>\n",
       "      <td>1</td>\n",
       "      <td>mikequindazzi</td>\n",
       "      <td>Who are #DataScientist and what do they do? &gt;&gt;...</td>\n",
       "      <td>1600</td>\n",
       "      <td>#MachineLearning #AI #DataAnalytics #DataScien...</td>\n",
       "      <td>11 hours</td>\n",
       "      <td>139</td>\n",
       "      <td>Who are #DataScientist and what do they do? &gt;&gt;...</td>\n",
       "      <td>0</td>\n",
       "      <td>...</td>\n",
       "      <td>0</td>\n",
       "      <td>0</td>\n",
       "      <td>0</td>\n",
       "      <td>0</td>\n",
       "      <td>0</td>\n",
       "      <td>0</td>\n",
       "      <td>0</td>\n",
       "      <td>0</td>\n",
       "      <td>1</td>\n",
       "      <td>0</td>\n",
       "    </tr>\n",
       "    <tr>\n",
       "      <th>1</th>\n",
       "      <td>1</td>\n",
       "      <td>2</td>\n",
       "      <td>drgorillapaints</td>\n",
       "      <td>We all know where it’s going. We just have to ...</td>\n",
       "      <td>880</td>\n",
       "      <td>#deck .#mac #macintosh#sayhello #apple #steve...</td>\n",
       "      <td>2 hours</td>\n",
       "      <td>23</td>\n",
       "      <td>We all know where it’s going. We just have to ...</td>\n",
       "      <td>0</td>\n",
       "      <td>...</td>\n",
       "      <td>0</td>\n",
       "      <td>0</td>\n",
       "      <td>0</td>\n",
       "      <td>0</td>\n",
       "      <td>1</td>\n",
       "      <td>0</td>\n",
       "      <td>0</td>\n",
       "      <td>0</td>\n",
       "      <td>0</td>\n",
       "      <td>0</td>\n",
       "    </tr>\n",
       "    <tr>\n",
       "      <th>2</th>\n",
       "      <td>2</td>\n",
       "      <td>3</td>\n",
       "      <td>aitrading_official</td>\n",
       "      <td>Alexander Barinov: 4 years as CFO in multinati...</td>\n",
       "      <td>255</td>\n",
       "      <td>#whoiswho #aitrading #ai #aitradingteam#instat...</td>\n",
       "      <td>2 hours</td>\n",
       "      <td>25</td>\n",
       "      <td>Alexander Barinov: 4 years as CFO in multinati...</td>\n",
       "      <td>0</td>\n",
       "      <td>...</td>\n",
       "      <td>0</td>\n",
       "      <td>0</td>\n",
       "      <td>0</td>\n",
       "      <td>0</td>\n",
       "      <td>0</td>\n",
       "      <td>0</td>\n",
       "      <td>0</td>\n",
       "      <td>0</td>\n",
       "      <td>0</td>\n",
       "      <td>0</td>\n",
       "    </tr>\n",
       "    <tr>\n",
       "      <th>3</th>\n",
       "      <td>3</td>\n",
       "      <td>4</td>\n",
       "      <td>opensourcedworkplace</td>\n",
       "      <td>sfad</td>\n",
       "      <td>340</td>\n",
       "      <td>#iot #cre#workplace #CDO #bigdata #technology#...</td>\n",
       "      <td>3 hours</td>\n",
       "      <td>49</td>\n",
       "      <td>sfad#iot #cre#workplace #CDO #bigdata #technol...</td>\n",
       "      <td>0</td>\n",
       "      <td>...</td>\n",
       "      <td>0</td>\n",
       "      <td>0</td>\n",
       "      <td>0</td>\n",
       "      <td>0</td>\n",
       "      <td>0</td>\n",
       "      <td>0</td>\n",
       "      <td>0</td>\n",
       "      <td>0</td>\n",
       "      <td>0</td>\n",
       "      <td>0</td>\n",
       "    </tr>\n",
       "    <tr>\n",
       "      <th>4</th>\n",
       "      <td>4</td>\n",
       "      <td>5</td>\n",
       "      <td>crea.vision</td>\n",
       "      <td>Ever missed a call while your phone was chargi...</td>\n",
       "      <td>304</td>\n",
       "      <td>#instamachinelearning #instabigdata#instamarke...</td>\n",
       "      <td>3 hours</td>\n",
       "      <td>30</td>\n",
       "      <td>Ever missed a call while your phone was chargi...</td>\n",
       "      <td>0</td>\n",
       "      <td>...</td>\n",
       "      <td>0</td>\n",
       "      <td>0</td>\n",
       "      <td>0</td>\n",
       "      <td>0</td>\n",
       "      <td>0</td>\n",
       "      <td>0</td>\n",
       "      <td>0</td>\n",
       "      <td>0</td>\n",
       "      <td>0</td>\n",
       "      <td>0</td>\n",
       "    </tr>\n",
       "    <tr>\n",
       "      <th>...</th>\n",
       "      <td>...</td>\n",
       "      <td>...</td>\n",
       "      <td>...</td>\n",
       "      <td>...</td>\n",
       "      <td>...</td>\n",
       "      <td>...</td>\n",
       "      <td>...</td>\n",
       "      <td>...</td>\n",
       "      <td>...</td>\n",
       "      <td>...</td>\n",
       "      <td>...</td>\n",
       "      <td>...</td>\n",
       "      <td>...</td>\n",
       "      <td>...</td>\n",
       "      <td>...</td>\n",
       "      <td>...</td>\n",
       "      <td>...</td>\n",
       "      <td>...</td>\n",
       "      <td>...</td>\n",
       "      <td>...</td>\n",
       "      <td>...</td>\n",
       "    </tr>\n",
       "    <tr>\n",
       "      <th>95</th>\n",
       "      <td>8</td>\n",
       "      <td>19</td>\n",
       "      <td>michaelgarza__</td>\n",
       "      <td>328 S. Wetherly Drive, Beverly Hills, CA 90212...</td>\n",
       "      <td>614</td>\n",
       "      <td>#beverlyhills #realestate#losangelesrealestate...</td>\n",
       "      <td>3 hours</td>\n",
       "      <td>31</td>\n",
       "      <td>328 S. Wetherly Drive, Beverly Hills, CA 90212...</td>\n",
       "      <td>0</td>\n",
       "      <td>...</td>\n",
       "      <td>0</td>\n",
       "      <td>0</td>\n",
       "      <td>0</td>\n",
       "      <td>0</td>\n",
       "      <td>0</td>\n",
       "      <td>0</td>\n",
       "      <td>0</td>\n",
       "      <td>0</td>\n",
       "      <td>0</td>\n",
       "      <td>0</td>\n",
       "    </tr>\n",
       "    <tr>\n",
       "      <th>96</th>\n",
       "      <td>9</td>\n",
       "      <td>21</td>\n",
       "      <td>dvlp_search</td>\n",
       "      <td>Credit @tristankappel To find more dvlp follow...</td>\n",
       "      <td>450</td>\n",
       "      <td>#workspace #work #developer#development #devel...</td>\n",
       "      <td>3 hours</td>\n",
       "      <td>42</td>\n",
       "      <td>Credit @tristankappel To find more dvlp follow...</td>\n",
       "      <td>0</td>\n",
       "      <td>...</td>\n",
       "      <td>0</td>\n",
       "      <td>0</td>\n",
       "      <td>0</td>\n",
       "      <td>0</td>\n",
       "      <td>0</td>\n",
       "      <td>0</td>\n",
       "      <td>0</td>\n",
       "      <td>0</td>\n",
       "      <td>0</td>\n",
       "      <td>0</td>\n",
       "    </tr>\n",
       "    <tr>\n",
       "      <th>97</th>\n",
       "      <td>10</td>\n",
       "      <td>22</td>\n",
       "      <td>ecom.space</td>\n",
       "      <td>We are coming up with the Best 21 Books that w...</td>\n",
       "      <td>182</td>\n",
       "      <td>#books #book #motivation #inspiration #life#bo...</td>\n",
       "      <td>3 hours</td>\n",
       "      <td>10</td>\n",
       "      <td>We are coming up with the Best 21 Books that w...</td>\n",
       "      <td>0</td>\n",
       "      <td>...</td>\n",
       "      <td>0</td>\n",
       "      <td>0</td>\n",
       "      <td>0</td>\n",
       "      <td>0</td>\n",
       "      <td>0</td>\n",
       "      <td>1</td>\n",
       "      <td>0</td>\n",
       "      <td>0</td>\n",
       "      <td>0</td>\n",
       "      <td>0</td>\n",
       "    </tr>\n",
       "    <tr>\n",
       "      <th>98</th>\n",
       "      <td>11</td>\n",
       "      <td>24</td>\n",
       "      <td>lb3enterprises</td>\n",
       "      <td>We’re only paid to move dirt once. It’s not ju...</td>\n",
       "      <td>2039</td>\n",
       "      <td>#heavyequipment #underconstruction#dozer #real...</td>\n",
       "      <td>3 hours</td>\n",
       "      <td>222</td>\n",
       "      <td>We’re only paid to move dirt once. It’s not ju...</td>\n",
       "      <td>0</td>\n",
       "      <td>...</td>\n",
       "      <td>0</td>\n",
       "      <td>0</td>\n",
       "      <td>0</td>\n",
       "      <td>0</td>\n",
       "      <td>0</td>\n",
       "      <td>0</td>\n",
       "      <td>0</td>\n",
       "      <td>1</td>\n",
       "      <td>0</td>\n",
       "      <td>0</td>\n",
       "    </tr>\n",
       "    <tr>\n",
       "      <th>99</th>\n",
       "      <td>12</td>\n",
       "      <td>25</td>\n",
       "      <td>palmariusdev</td>\n",
       "      <td>Obtén tu tienda en línea ahora.</td>\n",
       "      <td>741</td>\n",
       "      <td>#marketing #programming#development #desarroll...</td>\n",
       "      <td>3 hours</td>\n",
       "      <td>109</td>\n",
       "      <td>Obtén tu tienda en línea ahora.#marketing #pro...</td>\n",
       "      <td>0</td>\n",
       "      <td>...</td>\n",
       "      <td>0</td>\n",
       "      <td>0</td>\n",
       "      <td>0</td>\n",
       "      <td>0</td>\n",
       "      <td>0</td>\n",
       "      <td>0</td>\n",
       "      <td>0</td>\n",
       "      <td>0</td>\n",
       "      <td>0</td>\n",
       "      <td>0</td>\n",
       "    </tr>\n",
       "  </tbody>\n",
       "</table>\n",
       "<p>100 rows × 104 columns</p>\n",
       "</div>"
      ],
      "text/plain": [
       "    0    1                     2    \\\n",
       "0     0    1         mikequindazzi   \n",
       "1     1    2       drgorillapaints   \n",
       "2     2    3    aitrading_official   \n",
       "3     3    4  opensourcedworkplace   \n",
       "4     4    5           crea.vision   \n",
       "..  ...  ...                   ...   \n",
       "95    8   19        michaelgarza__   \n",
       "96    9   21           dvlp_search   \n",
       "97   10   22            ecom.space   \n",
       "98   11   24        lb3enterprises   \n",
       "99   12   25          palmariusdev   \n",
       "\n",
       "                                                  3     4    \\\n",
       "0   Who are #DataScientist and what do they do? >>...  1600   \n",
       "1   We all know where it’s going. We just have to ...   880   \n",
       "2   Alexander Barinov: 4 years as CFO in multinati...   255   \n",
       "3                                                sfad   340   \n",
       "4   Ever missed a call while your phone was chargi...   304   \n",
       "..                                                ...   ...   \n",
       "95  328 S. Wetherly Drive, Beverly Hills, CA 90212...   614   \n",
       "96  Credit @tristankappel To find more dvlp follow...   450   \n",
       "97  We are coming up with the Best 21 Books that w...   182   \n",
       "98  We’re only paid to move dirt once. It’s not ju...  2039   \n",
       "99                    Obtén tu tienda en línea ahora.   741   \n",
       "\n",
       "                                                  5         6    7    \\\n",
       "0   #MachineLearning #AI #DataAnalytics #DataScien...  11 hours  139   \n",
       "1    #deck .#mac #macintosh#sayhello #apple #steve...   2 hours   23   \n",
       "2   #whoiswho #aitrading #ai #aitradingteam#instat...   2 hours   25   \n",
       "3   #iot #cre#workplace #CDO #bigdata #technology#...   3 hours   49   \n",
       "4   #instamachinelearning #instabigdata#instamarke...   3 hours   30   \n",
       "..                                                ...       ...  ...   \n",
       "95  #beverlyhills #realestate#losangelesrealestate...   3 hours   31   \n",
       "96  #workspace #work #developer#development #devel...   3 hours   42   \n",
       "97  #books #book #motivation #inspiration #life#bo...   3 hours   10   \n",
       "98  #heavyequipment #underconstruction#dozer #real...   3 hours  222   \n",
       "99  #marketing #programming#development #desarroll...   3 hours  109   \n",
       "\n",
       "                                                  8    9    ...  94   95   \\\n",
       "0   Who are #DataScientist and what do they do? >>...    0  ...    0    0   \n",
       "1   We all know where it’s going. We just have to ...    0  ...    0    0   \n",
       "2   Alexander Barinov: 4 years as CFO in multinati...    0  ...    0    0   \n",
       "3   sfad#iot #cre#workplace #CDO #bigdata #technol...    0  ...    0    0   \n",
       "4   Ever missed a call while your phone was chargi...    0  ...    0    0   \n",
       "..                                                ...  ...  ...  ...  ...   \n",
       "95  328 S. Wetherly Drive, Beverly Hills, CA 90212...    0  ...    0    0   \n",
       "96  Credit @tristankappel To find more dvlp follow...    0  ...    0    0   \n",
       "97  We are coming up with the Best 21 Books that w...    0  ...    0    0   \n",
       "98  We’re only paid to move dirt once. It’s not ju...    0  ...    0    0   \n",
       "99  Obtén tu tienda en línea ahora.#marketing #pro...    0  ...    0    0   \n",
       "\n",
       "    96   97   98   99   100  101  102  103  \n",
       "0     0    0    0    0    0    0    1    0  \n",
       "1     0    0    1    0    0    0    0    0  \n",
       "2     0    0    0    0    0    0    0    0  \n",
       "3     0    0    0    0    0    0    0    0  \n",
       "4     0    0    0    0    0    0    0    0  \n",
       "..  ...  ...  ...  ...  ...  ...  ...  ...  \n",
       "95    0    0    0    0    0    0    0    0  \n",
       "96    0    0    0    0    0    0    0    0  \n",
       "97    0    0    0    1    0    0    0    0  \n",
       "98    0    0    0    0    0    1    0    0  \n",
       "99    0    0    0    0    0    0    0    0  \n",
       "\n",
       "[100 rows x 104 columns]"
      ]
     },
     "execution_count": 7,
     "metadata": {},
     "output_type": "execute_result"
    }
   ],
   "source": [
    "# Append the sparse DataFrame to the existing DataFrame\n",
    "df_combined = pd.concat([df, df_sparse], axis=1, ignore_index=True)\n",
    "df_combined"
   ]
  },
  {
   "cell_type": "code",
   "execution_count": 14,
   "id": "520edd18",
   "metadata": {},
   "outputs": [
    {
     "data": {
      "text/html": [
       "<div>\n",
       "<style scoped>\n",
       "    .dataframe tbody tr th:only-of-type {\n",
       "        vertical-align: middle;\n",
       "    }\n",
       "\n",
       "    .dataframe tbody tr th {\n",
       "        vertical-align: top;\n",
       "    }\n",
       "\n",
       "    .dataframe thead th {\n",
       "        text-align: right;\n",
       "    }\n",
       "</style>\n",
       "<table border=\"1\" class=\"dataframe\">\n",
       "  <thead>\n",
       "    <tr style=\"text-align: right;\">\n",
       "      <th></th>\n",
       "      <th>4</th>\n",
       "      <th>9</th>\n",
       "      <th>10</th>\n",
       "      <th>11</th>\n",
       "      <th>12</th>\n",
       "      <th>13</th>\n",
       "      <th>14</th>\n",
       "      <th>15</th>\n",
       "      <th>16</th>\n",
       "      <th>17</th>\n",
       "      <th>...</th>\n",
       "      <th>94</th>\n",
       "      <th>95</th>\n",
       "      <th>96</th>\n",
       "      <th>97</th>\n",
       "      <th>98</th>\n",
       "      <th>99</th>\n",
       "      <th>100</th>\n",
       "      <th>101</th>\n",
       "      <th>102</th>\n",
       "      <th>103</th>\n",
       "    </tr>\n",
       "  </thead>\n",
       "  <tbody>\n",
       "    <tr>\n",
       "      <th>0</th>\n",
       "      <td>1600</td>\n",
       "      <td>0</td>\n",
       "      <td>0</td>\n",
       "      <td>0</td>\n",
       "      <td>0</td>\n",
       "      <td>0</td>\n",
       "      <td>0</td>\n",
       "      <td>0</td>\n",
       "      <td>0</td>\n",
       "      <td>0</td>\n",
       "      <td>...</td>\n",
       "      <td>0</td>\n",
       "      <td>0</td>\n",
       "      <td>0</td>\n",
       "      <td>0</td>\n",
       "      <td>0</td>\n",
       "      <td>0</td>\n",
       "      <td>0</td>\n",
       "      <td>0</td>\n",
       "      <td>1</td>\n",
       "      <td>0</td>\n",
       "    </tr>\n",
       "    <tr>\n",
       "      <th>1</th>\n",
       "      <td>880</td>\n",
       "      <td>0</td>\n",
       "      <td>0</td>\n",
       "      <td>0</td>\n",
       "      <td>0</td>\n",
       "      <td>0</td>\n",
       "      <td>0</td>\n",
       "      <td>0</td>\n",
       "      <td>0</td>\n",
       "      <td>0</td>\n",
       "      <td>...</td>\n",
       "      <td>0</td>\n",
       "      <td>0</td>\n",
       "      <td>0</td>\n",
       "      <td>0</td>\n",
       "      <td>1</td>\n",
       "      <td>0</td>\n",
       "      <td>0</td>\n",
       "      <td>0</td>\n",
       "      <td>0</td>\n",
       "      <td>0</td>\n",
       "    </tr>\n",
       "    <tr>\n",
       "      <th>2</th>\n",
       "      <td>255</td>\n",
       "      <td>0</td>\n",
       "      <td>1</td>\n",
       "      <td>0</td>\n",
       "      <td>0</td>\n",
       "      <td>0</td>\n",
       "      <td>0</td>\n",
       "      <td>0</td>\n",
       "      <td>0</td>\n",
       "      <td>0</td>\n",
       "      <td>...</td>\n",
       "      <td>0</td>\n",
       "      <td>0</td>\n",
       "      <td>0</td>\n",
       "      <td>0</td>\n",
       "      <td>0</td>\n",
       "      <td>0</td>\n",
       "      <td>0</td>\n",
       "      <td>0</td>\n",
       "      <td>0</td>\n",
       "      <td>0</td>\n",
       "    </tr>\n",
       "    <tr>\n",
       "      <th>3</th>\n",
       "      <td>340</td>\n",
       "      <td>0</td>\n",
       "      <td>0</td>\n",
       "      <td>0</td>\n",
       "      <td>0</td>\n",
       "      <td>0</td>\n",
       "      <td>0</td>\n",
       "      <td>0</td>\n",
       "      <td>0</td>\n",
       "      <td>0</td>\n",
       "      <td>...</td>\n",
       "      <td>0</td>\n",
       "      <td>0</td>\n",
       "      <td>0</td>\n",
       "      <td>0</td>\n",
       "      <td>0</td>\n",
       "      <td>0</td>\n",
       "      <td>0</td>\n",
       "      <td>0</td>\n",
       "      <td>0</td>\n",
       "      <td>0</td>\n",
       "    </tr>\n",
       "    <tr>\n",
       "      <th>4</th>\n",
       "      <td>304</td>\n",
       "      <td>0</td>\n",
       "      <td>0</td>\n",
       "      <td>0</td>\n",
       "      <td>0</td>\n",
       "      <td>0</td>\n",
       "      <td>0</td>\n",
       "      <td>0</td>\n",
       "      <td>0</td>\n",
       "      <td>0</td>\n",
       "      <td>...</td>\n",
       "      <td>0</td>\n",
       "      <td>0</td>\n",
       "      <td>0</td>\n",
       "      <td>0</td>\n",
       "      <td>0</td>\n",
       "      <td>0</td>\n",
       "      <td>0</td>\n",
       "      <td>0</td>\n",
       "      <td>0</td>\n",
       "      <td>0</td>\n",
       "    </tr>\n",
       "    <tr>\n",
       "      <th>...</th>\n",
       "      <td>...</td>\n",
       "      <td>...</td>\n",
       "      <td>...</td>\n",
       "      <td>...</td>\n",
       "      <td>...</td>\n",
       "      <td>...</td>\n",
       "      <td>...</td>\n",
       "      <td>...</td>\n",
       "      <td>...</td>\n",
       "      <td>...</td>\n",
       "      <td>...</td>\n",
       "      <td>...</td>\n",
       "      <td>...</td>\n",
       "      <td>...</td>\n",
       "      <td>...</td>\n",
       "      <td>...</td>\n",
       "      <td>...</td>\n",
       "      <td>...</td>\n",
       "      <td>...</td>\n",
       "      <td>...</td>\n",
       "      <td>...</td>\n",
       "    </tr>\n",
       "    <tr>\n",
       "      <th>95</th>\n",
       "      <td>614</td>\n",
       "      <td>0</td>\n",
       "      <td>0</td>\n",
       "      <td>0</td>\n",
       "      <td>0</td>\n",
       "      <td>0</td>\n",
       "      <td>0</td>\n",
       "      <td>0</td>\n",
       "      <td>0</td>\n",
       "      <td>0</td>\n",
       "      <td>...</td>\n",
       "      <td>0</td>\n",
       "      <td>0</td>\n",
       "      <td>0</td>\n",
       "      <td>0</td>\n",
       "      <td>0</td>\n",
       "      <td>0</td>\n",
       "      <td>0</td>\n",
       "      <td>0</td>\n",
       "      <td>0</td>\n",
       "      <td>0</td>\n",
       "    </tr>\n",
       "    <tr>\n",
       "      <th>96</th>\n",
       "      <td>450</td>\n",
       "      <td>0</td>\n",
       "      <td>0</td>\n",
       "      <td>0</td>\n",
       "      <td>0</td>\n",
       "      <td>0</td>\n",
       "      <td>0</td>\n",
       "      <td>0</td>\n",
       "      <td>0</td>\n",
       "      <td>0</td>\n",
       "      <td>...</td>\n",
       "      <td>0</td>\n",
       "      <td>0</td>\n",
       "      <td>0</td>\n",
       "      <td>0</td>\n",
       "      <td>0</td>\n",
       "      <td>0</td>\n",
       "      <td>0</td>\n",
       "      <td>0</td>\n",
       "      <td>0</td>\n",
       "      <td>0</td>\n",
       "    </tr>\n",
       "    <tr>\n",
       "      <th>97</th>\n",
       "      <td>182</td>\n",
       "      <td>0</td>\n",
       "      <td>0</td>\n",
       "      <td>0</td>\n",
       "      <td>0</td>\n",
       "      <td>0</td>\n",
       "      <td>0</td>\n",
       "      <td>0</td>\n",
       "      <td>0</td>\n",
       "      <td>0</td>\n",
       "      <td>...</td>\n",
       "      <td>0</td>\n",
       "      <td>0</td>\n",
       "      <td>0</td>\n",
       "      <td>0</td>\n",
       "      <td>0</td>\n",
       "      <td>1</td>\n",
       "      <td>0</td>\n",
       "      <td>0</td>\n",
       "      <td>0</td>\n",
       "      <td>0</td>\n",
       "    </tr>\n",
       "    <tr>\n",
       "      <th>98</th>\n",
       "      <td>2039</td>\n",
       "      <td>0</td>\n",
       "      <td>0</td>\n",
       "      <td>0</td>\n",
       "      <td>0</td>\n",
       "      <td>0</td>\n",
       "      <td>0</td>\n",
       "      <td>0</td>\n",
       "      <td>0</td>\n",
       "      <td>0</td>\n",
       "      <td>...</td>\n",
       "      <td>0</td>\n",
       "      <td>0</td>\n",
       "      <td>0</td>\n",
       "      <td>0</td>\n",
       "      <td>0</td>\n",
       "      <td>0</td>\n",
       "      <td>0</td>\n",
       "      <td>1</td>\n",
       "      <td>0</td>\n",
       "      <td>0</td>\n",
       "    </tr>\n",
       "    <tr>\n",
       "      <th>99</th>\n",
       "      <td>741</td>\n",
       "      <td>0</td>\n",
       "      <td>0</td>\n",
       "      <td>0</td>\n",
       "      <td>0</td>\n",
       "      <td>0</td>\n",
       "      <td>0</td>\n",
       "      <td>0</td>\n",
       "      <td>0</td>\n",
       "      <td>0</td>\n",
       "      <td>...</td>\n",
       "      <td>0</td>\n",
       "      <td>0</td>\n",
       "      <td>0</td>\n",
       "      <td>0</td>\n",
       "      <td>0</td>\n",
       "      <td>0</td>\n",
       "      <td>0</td>\n",
       "      <td>0</td>\n",
       "      <td>0</td>\n",
       "      <td>0</td>\n",
       "    </tr>\n",
       "  </tbody>\n",
       "</table>\n",
       "<p>100 rows × 96 columns</p>\n",
       "</div>"
      ],
      "text/plain": [
       "     4    9    10   11   12   13   14   15   16   17   ...  94   95   96   \\\n",
       "0   1600    0    0    0    0    0    0    0    0    0  ...    0    0    0   \n",
       "1    880    0    0    0    0    0    0    0    0    0  ...    0    0    0   \n",
       "2    255    0    1    0    0    0    0    0    0    0  ...    0    0    0   \n",
       "3    340    0    0    0    0    0    0    0    0    0  ...    0    0    0   \n",
       "4    304    0    0    0    0    0    0    0    0    0  ...    0    0    0   \n",
       "..   ...  ...  ...  ...  ...  ...  ...  ...  ...  ...  ...  ...  ...  ...   \n",
       "95   614    0    0    0    0    0    0    0    0    0  ...    0    0    0   \n",
       "96   450    0    0    0    0    0    0    0    0    0  ...    0    0    0   \n",
       "97   182    0    0    0    0    0    0    0    0    0  ...    0    0    0   \n",
       "98  2039    0    0    0    0    0    0    0    0    0  ...    0    0    0   \n",
       "99   741    0    0    0    0    0    0    0    0    0  ...    0    0    0   \n",
       "\n",
       "    97   98   99   100  101  102  103  \n",
       "0     0    0    0    0    0    1    0  \n",
       "1     0    1    0    0    0    0    0  \n",
       "2     0    0    0    0    0    0    0  \n",
       "3     0    0    0    0    0    0    0  \n",
       "4     0    0    0    0    0    0    0  \n",
       "..  ...  ...  ...  ...  ...  ...  ...  \n",
       "95    0    0    0    0    0    0    0  \n",
       "96    0    0    0    0    0    0    0  \n",
       "97    0    0    1    0    0    0    0  \n",
       "98    0    0    0    0    1    0    0  \n",
       "99    0    0    0    0    0    0    0  \n",
       "\n",
       "[100 rows x 96 columns]"
      ]
     },
     "execution_count": 14,
     "metadata": {},
     "output_type": "execute_result"
    }
   ],
   "source": [
    "X = df_combined.drop([0,1,2,3,5,6,7,8],axis=1)\n",
    "X"
   ]
  },
  {
   "cell_type": "code",
   "execution_count": 15,
   "id": "50c781b5",
   "metadata": {},
   "outputs": [],
   "source": [
    "y1 = df_combined[7]"
   ]
  },
  {
   "cell_type": "code",
   "execution_count": 16,
   "id": "daa16d6c",
   "metadata": {},
   "outputs": [],
   "source": [
    "from sklearn.model_selection import train_test_split\n",
    "X_train, X_test, y_train, y_test = train_test_split(X, y1, test_size=0.20, random_state=1)"
   ]
  },
  {
   "cell_type": "code",
   "execution_count": 17,
   "id": "6a260f42",
   "metadata": {},
   "outputs": [],
   "source": [
    "from sklearn.metrics import mean_absolute_error\n",
    "from sklearn.metrics import mean_squared_error\n",
    "from sklearn.metrics import r2_score\n",
    "from sklearn.model_selection import cross_val_predict\n",
    "def train_model(model):\n",
    "    m = model[1]\n",
    "    y_train_pred = cross_val_predict(model[1], X_train, y_train, cv=5)\n",
    "    mae = mean_absolute_error(y_train,y_train_pred)\n",
    "    mse = mean_squared_error(y_train,y_train_pred)\n",
    "    rmse = np.sqrt(mse)\n",
    "    rmsle = np.log(rmse)\n",
    "    r2 = r2_score(y_train,y_train_pred)\n",
    "    print(f'{model[0]} MAE: {mae}')\n",
    "    print(f'{model[0]} MSE: {mse}')\n",
    "    print(f'{model[0]} RMSE: {rmse}')\n",
    "    print(f'{model[0]} RMSLE: {rmsle}')\n",
    "    print(f'{model[0]} R2 score: {r2}')"
   ]
  },
  {
   "cell_type": "code",
   "execution_count": 18,
   "id": "da0f97b7",
   "metadata": {},
   "outputs": [
    {
     "name": "stdout",
     "output_type": "stream",
     "text": [
      "Linear Regression MAE: 35.14715329105792\n",
      "Linear Regression MSE: 3386.3203992113035\n",
      "Linear Regression RMSE: 58.19209911329289\n",
      "Linear Regression RMSLE: 4.063749591454842\n",
      "Linear Regression R2 score: -0.008205527995839068\n"
     ]
    }
   ],
   "source": [
    "from sklearn.linear_model import LinearRegression\n",
    "train_model(('Linear Regression', LinearRegression()))"
   ]
  },
  {
   "cell_type": "code",
   "execution_count": 19,
   "id": "1b006207",
   "metadata": {},
   "outputs": [
    {
     "name": "stdout",
     "output_type": "stream",
     "text": [
      "Ridge Regression MAE: 34.320586014097316\n",
      "Ridge Regression MSE: 3302.034772192141\n",
      "Ridge Regression RMSE: 57.46333415485166\n",
      "Ridge Regression RMSLE: 4.05114707753517\n",
      "Ridge Regression R2 score: 0.016888741025812504\n"
     ]
    }
   ],
   "source": [
    "from sklearn.linear_model import Ridge\n",
    "train_model(('Ridge Regression', Ridge()))"
   ]
  },
  {
   "cell_type": "code",
   "execution_count": 20,
   "id": "0792ebe4",
   "metadata": {},
   "outputs": [
    {
     "name": "stdout",
     "output_type": "stream",
     "text": [
      "MLPR Regression MAE: 45.735855135539076\n",
      "MLPR Regression MSE: 5160.21311850572\n",
      "MLPR Regression RMSE: 71.83462339642159\n",
      "MLPR Regression RMSLE: 4.274366579829348\n",
      "MLPR Regression R2 score: -0.5363446981938933\n"
     ]
    }
   ],
   "source": [
    "from sklearn.neural_network import MLPRegressor\n",
    "train_model(('MLPR Regression', MLPRegressor(random_state=1, max_iter=500)))"
   ]
  },
  {
   "cell_type": "code",
   "execution_count": 21,
   "id": "e7f7dcae",
   "metadata": {},
   "outputs": [
    {
     "name": "stdout",
     "output_type": "stream",
     "text": [
      "Lasso Regression MAE: 31.333788707147427\n",
      "Lasso Regression MSE: 3337.3206803127373\n",
      "Lasso Regression RMSE: 57.76954803625122\n",
      "Lasso Regression RMSLE: 4.056461786259908\n",
      "Lasso Regression R2 score: 0.00638310557683841\n"
     ]
    }
   ],
   "source": [
    "from sklearn.linear_model import Lasso\n",
    "train_model(('Lasso Regression', Lasso()))"
   ]
  },
  {
   "cell_type": "code",
   "execution_count": 22,
   "id": "f8161f78",
   "metadata": {},
   "outputs": [
    {
     "name": "stdout",
     "output_type": "stream",
     "text": [
      "Decision Tree Regression MAE: 30.5375\n",
      "Decision Tree Regression MSE: 3902.0375\n",
      "Decision Tree Regression RMSE: 62.46629090957778\n",
      "Decision Tree Regression RMSLE: 4.1346270657965265\n",
      "Decision Tree Regression R2 score: -0.1617494253831775\n"
     ]
    }
   ],
   "source": [
    "from sklearn.tree import DecisionTreeRegressor\n",
    "train_model(('Decision Tree Regression', DecisionTreeRegressor()))"
   ]
  },
  {
   "cell_type": "code",
   "execution_count": 23,
   "id": "28f757e1",
   "metadata": {},
   "outputs": [
    {
     "name": "stdout",
     "output_type": "stream",
     "text": [
      "Random Forest Regression MAE: 29.194624999999995\n",
      "Random Forest Regression MSE: 3744.59291375\n",
      "Random Forest Regression RMSE: 61.19307896935731\n",
      "Random Forest Regression RMSLE: 4.114034094387275\n",
      "Random Forest Regression R2 score: -0.11487361816563291\n"
     ]
    }
   ],
   "source": [
    "from sklearn.ensemble import RandomForestRegressor\n",
    "train_model(('Random Forest Regression', RandomForestRegressor()))"
   ]
  },
  {
   "cell_type": "code",
   "execution_count": 24,
   "id": "b86cc827",
   "metadata": {},
   "outputs": [
    {
     "name": "stdout",
     "output_type": "stream",
     "text": [
      "KNN Regression MAE: 35.6\n",
      "KNN Regression MSE: 4024.925\n",
      "KNN Regression RMSE: 63.442296616689404\n",
      "KNN Regression RMSLE: 4.150130778069342\n",
      "KNN Regression R2 score: -0.19833658850290026\n"
     ]
    }
   ],
   "source": [
    "from sklearn.neighbors import KNeighborsRegressor\n",
    "train_model(('KNN Regression', KNeighborsRegressor()))"
   ]
  },
  {
   "cell_type": "code",
   "execution_count": 25,
   "id": "c74173c4",
   "metadata": {},
   "outputs": [
    {
     "name": "stdout",
     "output_type": "stream",
     "text": [
      "SVM Regression MAE: 29.51655270252935\n",
      "SVM Regression MSE: 3706.765065688812\n",
      "SVM Regression RMSE: 60.88320840501765\n",
      "SVM Regression RMSLE: 4.108957412641446\n",
      "SVM Regression R2 score: -0.10361117367385964\n"
     ]
    }
   ],
   "source": [
    "from sklearn.svm import SVR\n",
    "train_model(('SVM Regression', SVR()))"
   ]
  },
  {
   "cell_type": "code",
   "execution_count": 26,
   "id": "dc91f775",
   "metadata": {},
   "outputs": [
    {
     "name": "stdout",
     "output_type": "stream",
     "text": [
      "Gaussian Regression MAE: 46.79419760757668\n",
      "Gaussian Regression MSE: 5585.318362841141\n",
      "Gaussian Regression RMSE: 74.73498754158685\n",
      "Gaussian Regression RMSLE: 4.313948356536578\n",
      "Gaussian Regression R2 score: -0.6629108250786426\n"
     ]
    }
   ],
   "source": [
    "from sklearn.gaussian_process import GaussianProcessRegressor\n",
    "train_model(('Gaussian Regression', GaussianProcessRegressor()))"
   ]
  },
  {
   "cell_type": "code",
   "execution_count": 27,
   "id": "1d329cc1",
   "metadata": {},
   "outputs": [
    {
     "name": "stdout",
     "output_type": "stream",
     "text": [
      "Best Hyperparameters:\n",
      "{'alpha': 1.0, 'solver': 'auto'}\n"
     ]
    }
   ],
   "source": [
    "from sklearn.model_selection import GridSearchCV\n",
    "\n",
    "# Define the Ridge model\n",
    "ridge = Ridge()\n",
    "\n",
    "# Define the hyperparameter grid\n",
    "param_grid = {\n",
    "    'alpha': [0.1, 1.0, 10.0],    # Different values of alpha\n",
    "    'solver': ['auto', 'svd', 'cholesky', 'lsqr', 'sag']  # Different solvers\n",
    "}\n",
    "\n",
    "# Perform grid search to find the best hyperparameters\n",
    "grid_search = GridSearchCV(ridge, param_grid, cv=5, scoring='neg_mean_squared_error')\n",
    "grid_search.fit(X_train, y_train)\n",
    "\n",
    "# Get the best hyperparameters and model\n",
    "best_params = grid_search.best_params_\n",
    "best_model = grid_search.best_estimator_\n",
    "\n",
    "# Print the best hyperparameters\n",
    "print(\"Best Hyperparameters:\")\n",
    "print(best_params)"
   ]
  },
  {
   "cell_type": "code",
   "execution_count": 28,
   "id": "96709f92",
   "metadata": {},
   "outputs": [
    {
     "name": "stdout",
     "output_type": "stream",
     "text": [
      "R2 score: 0.2451529300393187\n"
     ]
    }
   ],
   "source": [
    "# Evaluate the best model\n",
    "y_pred = best_model.predict(X_test)\n",
    "r2 = r2_score(y_test,y_pred)\n",
    "print(f\"R2 score: {r2}\")"
   ]
  },
  {
   "cell_type": "code",
   "execution_count": 29,
   "id": "e17519e2",
   "metadata": {},
   "outputs": [],
   "source": [
    "y2 = df_combined[6].replace(r'hours', '', regex=True).astype(int)"
   ]
  },
  {
   "cell_type": "code",
   "execution_count": 30,
   "id": "44357e82",
   "metadata": {},
   "outputs": [],
   "source": [
    "from sklearn.model_selection import train_test_split\n",
    "X_train, X_test, y_train, y_test = train_test_split(X, y2, test_size=0.20, random_state=1)"
   ]
  },
  {
   "cell_type": "code",
   "execution_count": 31,
   "id": "9ccaf0f5",
   "metadata": {},
   "outputs": [
    {
     "name": "stdout",
     "output_type": "stream",
     "text": [
      "Linear Regression MAE: 1.8308008904101627\n",
      "Linear Regression MSE: 11.819952927679003\n",
      "Linear Regression RMSE: 3.4380158416852886\n",
      "Linear Regression RMSLE: 1.234894514770079\n",
      "Linear Regression R2 score: 0.040928815645498884\n"
     ]
    }
   ],
   "source": [
    "from sklearn.linear_model import LinearRegression\n",
    "train_model(('Linear Regression', LinearRegression()))"
   ]
  },
  {
   "cell_type": "code",
   "execution_count": 32,
   "id": "e7f672b3",
   "metadata": {},
   "outputs": [
    {
     "name": "stdout",
     "output_type": "stream",
     "text": [
      "Ridge Regression MAE: 1.8453811050283815\n",
      "Ridge Regression MSE: 11.633373826746631\n",
      "Ridge Regression RMSE: 3.410773200719542\n",
      "Ridge Regression RMSLE: 1.2269390106716898\n",
      "Ridge Regression R2 score: 0.0560678471121957\n"
     ]
    }
   ],
   "source": [
    "from sklearn.linear_model import Ridge\n",
    "train_model(('Ridge Regression', Ridge()))"
   ]
  },
  {
   "cell_type": "code",
   "execution_count": 33,
   "id": "ce810cd8",
   "metadata": {},
   "outputs": [
    {
     "name": "stdout",
     "output_type": "stream",
     "text": [
      "MLPR Regression MAE: 17.097004562329516\n",
      "MLPR Regression MSE: 692.823495584906\n",
      "MLPR Regression RMSE: 26.321540524538186\n",
      "MLPR Regression RMSLE: 3.2703876353118297\n",
      "MLPR Regression R2 score: -55.215710377597745\n"
     ]
    }
   ],
   "source": [
    "from sklearn.neural_network import MLPRegressor\n",
    "train_model(('MLPR Regression', MLPRegressor(random_state=1, max_iter=500)))"
   ]
  },
  {
   "cell_type": "code",
   "execution_count": 34,
   "id": "3245308d",
   "metadata": {},
   "outputs": [
    {
     "name": "stdout",
     "output_type": "stream",
     "text": [
      "Lasso Regression MAE: 1.891239561534407\n",
      "Lasso Regression MSE: 11.81445812035196\n",
      "Lasso Regression RMSE: 3.4372166240072737\n",
      "Lasso Regression RMSLE: 1.2346620229421725\n",
      "Lasso Regression R2 score: 0.04137466440675808\n"
     ]
    }
   ],
   "source": [
    "from sklearn.linear_model import Lasso\n",
    "train_model(('Lasso Regression', Lasso()))"
   ]
  },
  {
   "cell_type": "code",
   "execution_count": 35,
   "id": "43cefda0",
   "metadata": {},
   "outputs": [
    {
     "name": "stdout",
     "output_type": "stream",
     "text": [
      "Decision Tree Regression MAE: 1.4875\n",
      "Decision Tree Regression MSE: 14.0125\n",
      "Decision Tree Regression RMSE: 3.7433273968489584\n",
      "Decision Tree Regression RMSLE: 1.3199748941991392\n",
      "Decision Tree Regression R2 score: -0.13697449160707964\n"
     ]
    }
   ],
   "source": [
    "from sklearn.tree import DecisionTreeRegressor\n",
    "train_model(('Decision Tree Regression', DecisionTreeRegressor()))"
   ]
  },
  {
   "cell_type": "code",
   "execution_count": 36,
   "id": "7b7c76ad",
   "metadata": {},
   "outputs": [
    {
     "name": "stdout",
     "output_type": "stream",
     "text": [
      "Random Forest Regression MAE: 1.4757500000000001\n",
      "Random Forest Regression MSE: 13.773275000000002\n",
      "Random Forest Regression RMSE: 3.7112363169165072\n",
      "Random Forest Regression RMSLE: 1.311365060168593\n",
      "Random Forest Regression R2 score: -0.11756377098230164\n"
     ]
    }
   ],
   "source": [
    "from sklearn.ensemble import RandomForestRegressor\n",
    "train_model(('Random Forest Regression', RandomForestRegressor()))"
   ]
  },
  {
   "cell_type": "code",
   "execution_count": 37,
   "id": "c3d7f197",
   "metadata": {},
   "outputs": [
    {
     "name": "stdout",
     "output_type": "stream",
     "text": [
      "KNN Regression MAE: 1.7899999999999998\n",
      "KNN Regression MSE: 12.383\n",
      "KNN Regression RMSE: 3.5189487066452103\n",
      "KNN Regression RMSLE: 1.2581622821164806\n",
      "KNN Regression R2 score: -0.00475683351082723\n"
     ]
    }
   ],
   "source": [
    "from sklearn.neighbors import KNeighborsRegressor\n",
    "train_model(('KNN Regression', KNeighborsRegressor()))"
   ]
  },
  {
   "cell_type": "code",
   "execution_count": 38,
   "id": "1d0642fd",
   "metadata": {},
   "outputs": [
    {
     "name": "stdout",
     "output_type": "stream",
     "text": [
      "SVM Regression MAE: 1.5052954424545697\n",
      "SVM Regression MSE: 13.473140339005175\n",
      "SVM Regression RMSE: 3.67057765740015\n",
      "SVM Regression RMSLE: 1.3003490495169774\n",
      "SVM Regression R2 score: -0.09321083941418351\n"
     ]
    }
   ],
   "source": [
    "from sklearn.svm import SVR\n",
    "train_model(('SVM Regression', SVR()))"
   ]
  },
  {
   "cell_type": "code",
   "execution_count": 39,
   "id": "fdda7938",
   "metadata": {},
   "outputs": [
    {
     "name": "stdout",
     "output_type": "stream",
     "text": [
      "Gaussian Regression MAE: 3.4230710302798144\n",
      "Gaussian Regression MSE: 24.21163279144648\n",
      "Gaussian Regression RMSE: 4.920531759012077\n",
      "Gaussian Regression RMSLE: 1.593416605763891\n",
      "Gaussian Regression R2 score: -0.9645323021610819\n"
     ]
    }
   ],
   "source": [
    "from sklearn.gaussian_process import GaussianProcessRegressor\n",
    "train_model(('Gaussian Regression', GaussianProcessRegressor()))"
   ]
  },
  {
   "cell_type": "code",
   "execution_count": 40,
   "id": "41600db9",
   "metadata": {},
   "outputs": [
    {
     "name": "stdout",
     "output_type": "stream",
     "text": [
      "Best Hyperparameters:\n",
      "{'alpha': 1.0, 'solver': 'svd'}\n"
     ]
    }
   ],
   "source": [
    "from sklearn.model_selection import GridSearchCV\n",
    "from sklearn.linear_model import Ridge\n",
    "from sklearn.datasets import make_regression\n",
    "from sklearn.metrics import mean_squared_error\n",
    "\n",
    "# Define the Ridge model\n",
    "ridge = Ridge()\n",
    "\n",
    "# Define the hyperparameter grid\n",
    "param_grid = {\n",
    "    'alpha': [0.1, 1.0, 10.0],    # Different values of alpha\n",
    "    'solver': ['auto', 'svd', 'cholesky', 'lsqr', 'sag']  # Different solvers\n",
    "}\n",
    "\n",
    "# Perform grid search to find the best hyperparameters\n",
    "grid_search = GridSearchCV(ridge, param_grid, cv=5, scoring='neg_mean_squared_error')\n",
    "grid_search.fit(X_train, y_train)\n",
    "\n",
    "# Get the best hyperparameters and model\n",
    "best_params = grid_search.best_params_\n",
    "best_model = grid_search.best_estimator_\n",
    "\n",
    "# Print the best hyperparameters\n",
    "print(\"Best Hyperparameters:\")\n",
    "print(best_params)"
   ]
  },
  {
   "cell_type": "code",
   "execution_count": 41,
   "id": "bce4c92d",
   "metadata": {},
   "outputs": [
    {
     "name": "stdout",
     "output_type": "stream",
     "text": [
      "R2 score: 0.04095064645047264\n"
     ]
    }
   ],
   "source": [
    "# Evaluate the best model\n",
    "y_pred = best_model.predict(X_test)\n",
    "r2 = r2_score(y_test,y_pred)\n",
    "print(f\"R2 score: {r2}\")"
   ]
  },
  {
   "cell_type": "code",
   "execution_count": null,
   "id": "4f52dbc7",
   "metadata": {},
   "outputs": [],
   "source": []
  },
  {
   "cell_type": "code",
   "execution_count": null,
   "id": "c57fbd07",
   "metadata": {},
   "outputs": [],
   "source": []
  }
 ],
 "metadata": {
  "kernelspec": {
   "display_name": "Python 3 (ipykernel)",
   "language": "python",
   "name": "python3"
  },
  "language_info": {
   "codemirror_mode": {
    "name": "ipython",
    "version": 3
   },
   "file_extension": ".py",
   "mimetype": "text/x-python",
   "name": "python",
   "nbconvert_exporter": "python",
   "pygments_lexer": "ipython3",
   "version": "3.9.13"
  }
 },
 "nbformat": 4,
 "nbformat_minor": 5
}
