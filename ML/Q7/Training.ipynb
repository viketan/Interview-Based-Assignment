{
 "cells": [
  {
   "cell_type": "code",
   "execution_count": 1,
   "id": "334c906f",
   "metadata": {},
   "outputs": [],
   "source": [
    "import pandas as pd\n",
    "from sklearn.preprocessing import LabelEncoder\n",
    "from sklearn.preprocessing import StandardScaler\n",
    "from sklearn.model_selection import train_test_split\n",
    "from sklearn.model_selection import GridSearchCV\n",
    "import joblib"
   ]
  },
  {
   "cell_type": "code",
   "execution_count": 2,
   "id": "edc71803",
   "metadata": {},
   "outputs": [],
   "source": [
    "df = pd.read_csv('data.csv')"
   ]
  },
  {
   "cell_type": "code",
   "execution_count": 3,
   "id": "08209019",
   "metadata": {},
   "outputs": [
    {
     "name": "stdout",
     "output_type": "stream",
     "text": [
      "<class 'pandas.core.frame.DataFrame'>\n",
      "RangeIndex: 1000 entries, 0 to 999\n",
      "Data columns (total 30 columns):\n",
      " #   Column              Non-Null Count  Dtype  \n",
      "---  ------              --------------  -----  \n",
      " 0   filename            1000 non-null   object \n",
      " 1   tempo               1000 non-null   float64\n",
      " 2   beats               1000 non-null   int64  \n",
      " 3   chroma_stft         1000 non-null   float64\n",
      " 4   rmse                1000 non-null   float64\n",
      " 5   spectral_centroid   1000 non-null   float64\n",
      " 6   spectral_bandwidth  1000 non-null   float64\n",
      " 7   rolloff             1000 non-null   float64\n",
      " 8   zero_crossing_rate  1000 non-null   float64\n",
      " 9   mfcc1               1000 non-null   float64\n",
      " 10  mfcc2               1000 non-null   float64\n",
      " 11  mfcc3               1000 non-null   float64\n",
      " 12  mfcc4               1000 non-null   float64\n",
      " 13  mfcc5               1000 non-null   float64\n",
      " 14  mfcc6               1000 non-null   float64\n",
      " 15  mfcc7               1000 non-null   float64\n",
      " 16  mfcc8               1000 non-null   float64\n",
      " 17  mfcc9               1000 non-null   float64\n",
      " 18  mfcc10              1000 non-null   float64\n",
      " 19  mfcc11              1000 non-null   float64\n",
      " 20  mfcc12              1000 non-null   float64\n",
      " 21  mfcc13              1000 non-null   float64\n",
      " 22  mfcc14              1000 non-null   float64\n",
      " 23  mfcc15              1000 non-null   float64\n",
      " 24  mfcc16              1000 non-null   float64\n",
      " 25  mfcc17              1000 non-null   float64\n",
      " 26  mfcc18              1000 non-null   float64\n",
      " 27  mfcc19              1000 non-null   float64\n",
      " 28  mfcc20              1000 non-null   float64\n",
      " 29  label               1000 non-null   object \n",
      "dtypes: float64(27), int64(1), object(2)\n",
      "memory usage: 234.5+ KB\n"
     ]
    }
   ],
   "source": [
    "df.info()"
   ]
  },
  {
   "cell_type": "code",
   "execution_count": 4,
   "id": "d8b10834",
   "metadata": {},
   "outputs": [
    {
     "data": {
      "text/plain": [
       "filename              0\n",
       "tempo                 0\n",
       "beats                 0\n",
       "chroma_stft           0\n",
       "rmse                  0\n",
       "spectral_centroid     0\n",
       "spectral_bandwidth    0\n",
       "rolloff               0\n",
       "zero_crossing_rate    0\n",
       "mfcc1                 0\n",
       "mfcc2                 0\n",
       "mfcc3                 0\n",
       "mfcc4                 0\n",
       "mfcc5                 0\n",
       "mfcc6                 0\n",
       "mfcc7                 0\n",
       "mfcc8                 0\n",
       "mfcc9                 0\n",
       "mfcc10                0\n",
       "mfcc11                0\n",
       "mfcc12                0\n",
       "mfcc13                0\n",
       "mfcc14                0\n",
       "mfcc15                0\n",
       "mfcc16                0\n",
       "mfcc17                0\n",
       "mfcc18                0\n",
       "mfcc19                0\n",
       "mfcc20                0\n",
       "label                 0\n",
       "dtype: int64"
      ]
     },
     "execution_count": 4,
     "metadata": {},
     "output_type": "execute_result"
    }
   ],
   "source": [
    "df.isna().sum()"
   ]
  },
  {
   "cell_type": "code",
   "execution_count": 5,
   "id": "be49d25d",
   "metadata": {},
   "outputs": [
    {
     "data": {
      "text/plain": [
       "0"
      ]
     },
     "execution_count": 5,
     "metadata": {},
     "output_type": "execute_result"
    }
   ],
   "source": [
    "df.duplicated().sum()"
   ]
  },
  {
   "cell_type": "code",
   "execution_count": 6,
   "id": "67154b6f",
   "metadata": {},
   "outputs": [
    {
     "data": {
      "text/html": [
       "<div>\n",
       "<style scoped>\n",
       "    .dataframe tbody tr th:only-of-type {\n",
       "        vertical-align: middle;\n",
       "    }\n",
       "\n",
       "    .dataframe tbody tr th {\n",
       "        vertical-align: top;\n",
       "    }\n",
       "\n",
       "    .dataframe thead th {\n",
       "        text-align: right;\n",
       "    }\n",
       "</style>\n",
       "<table border=\"1\" class=\"dataframe\">\n",
       "  <thead>\n",
       "    <tr style=\"text-align: right;\">\n",
       "      <th></th>\n",
       "      <th>count</th>\n",
       "      <th>mean</th>\n",
       "      <th>std</th>\n",
       "      <th>min</th>\n",
       "      <th>25%</th>\n",
       "      <th>50%</th>\n",
       "      <th>75%</th>\n",
       "      <th>max</th>\n",
       "    </tr>\n",
       "  </thead>\n",
       "  <tbody>\n",
       "    <tr>\n",
       "      <th>tempo</th>\n",
       "      <td>1000.0</td>\n",
       "      <td>119.601702</td>\n",
       "      <td>28.297367</td>\n",
       "      <td>54.978391</td>\n",
       "      <td>99.384014</td>\n",
       "      <td>117.453835</td>\n",
       "      <td>135.999178</td>\n",
       "      <td>234.907670</td>\n",
       "    </tr>\n",
       "    <tr>\n",
       "      <th>beats</th>\n",
       "      <td>1000.0</td>\n",
       "      <td>57.138000</td>\n",
       "      <td>14.225728</td>\n",
       "      <td>18.000000</td>\n",
       "      <td>47.000000</td>\n",
       "      <td>56.000000</td>\n",
       "      <td>65.250000</td>\n",
       "      <td>117.000000</td>\n",
       "    </tr>\n",
       "    <tr>\n",
       "      <th>chroma_stft</th>\n",
       "      <td>1000.0</td>\n",
       "      <td>0.378656</td>\n",
       "      <td>0.081689</td>\n",
       "      <td>0.171782</td>\n",
       "      <td>0.319641</td>\n",
       "      <td>0.383075</td>\n",
       "      <td>0.435974</td>\n",
       "      <td>0.663573</td>\n",
       "    </tr>\n",
       "    <tr>\n",
       "      <th>rmse</th>\n",
       "      <td>1000.0</td>\n",
       "      <td>0.130929</td>\n",
       "      <td>0.065685</td>\n",
       "      <td>0.005276</td>\n",
       "      <td>0.086625</td>\n",
       "      <td>0.122448</td>\n",
       "      <td>0.175793</td>\n",
       "      <td>0.398012</td>\n",
       "    </tr>\n",
       "    <tr>\n",
       "      <th>spectral_centroid</th>\n",
       "      <td>1000.0</td>\n",
       "      <td>2201.834226</td>\n",
       "      <td>715.961347</td>\n",
       "      <td>569.930721</td>\n",
       "      <td>1627.793931</td>\n",
       "      <td>2209.468780</td>\n",
       "      <td>2691.969702</td>\n",
       "      <td>4434.439444</td>\n",
       "    </tr>\n",
       "    <tr>\n",
       "      <th>spectral_bandwidth</th>\n",
       "      <td>1000.0</td>\n",
       "      <td>2242.559613</td>\n",
       "      <td>526.337663</td>\n",
       "      <td>897.994319</td>\n",
       "      <td>1907.136505</td>\n",
       "      <td>2221.408983</td>\n",
       "      <td>2578.474352</td>\n",
       "      <td>3509.578677</td>\n",
       "    </tr>\n",
       "    <tr>\n",
       "      <th>rolloff</th>\n",
       "      <td>1000.0</td>\n",
       "      <td>4571.702159</td>\n",
       "      <td>1574.770035</td>\n",
       "      <td>749.062137</td>\n",
       "      <td>3380.956639</td>\n",
       "      <td>4658.671830</td>\n",
       "      <td>5534.197785</td>\n",
       "      <td>8676.405868</td>\n",
       "    </tr>\n",
       "    <tr>\n",
       "      <th>zero_crossing_rate</th>\n",
       "      <td>1000.0</td>\n",
       "      <td>0.103637</td>\n",
       "      <td>0.041834</td>\n",
       "      <td>0.021701</td>\n",
       "      <td>0.070281</td>\n",
       "      <td>0.099539</td>\n",
       "      <td>0.132007</td>\n",
       "      <td>0.274829</td>\n",
       "    </tr>\n",
       "    <tr>\n",
       "      <th>mfcc1</th>\n",
       "      <td>1000.0</td>\n",
       "      <td>-144.479173</td>\n",
       "      <td>100.235661</td>\n",
       "      <td>-552.064063</td>\n",
       "      <td>-200.695133</td>\n",
       "      <td>-120.206072</td>\n",
       "      <td>-73.895019</td>\n",
       "      <td>42.034587</td>\n",
       "    </tr>\n",
       "    <tr>\n",
       "      <th>mfcc2</th>\n",
       "      <td>1000.0</td>\n",
       "      <td>99.552199</td>\n",
       "      <td>31.331904</td>\n",
       "      <td>-1.527148</td>\n",
       "      <td>76.811480</td>\n",
       "      <td>98.452551</td>\n",
       "      <td>119.893638</td>\n",
       "      <td>193.096518</td>\n",
       "    </tr>\n",
       "    <tr>\n",
       "      <th>mfcc3</th>\n",
       "      <td>1000.0</td>\n",
       "      <td>-8.921949</td>\n",
       "      <td>21.695015</td>\n",
       "      <td>-89.901142</td>\n",
       "      <td>-24.223791</td>\n",
       "      <td>-10.716073</td>\n",
       "      <td>5.505793</td>\n",
       "      <td>56.666090</td>\n",
       "    </tr>\n",
       "    <tr>\n",
       "      <th>mfcc4</th>\n",
       "      <td>1000.0</td>\n",
       "      <td>36.293063</td>\n",
       "      <td>16.666987</td>\n",
       "      <td>-18.768461</td>\n",
       "      <td>24.107395</td>\n",
       "      <td>36.957074</td>\n",
       "      <td>48.212826</td>\n",
       "      <td>80.691273</td>\n",
       "    </tr>\n",
       "    <tr>\n",
       "      <th>mfcc5</th>\n",
       "      <td>1000.0</td>\n",
       "      <td>-1.146627</td>\n",
       "      <td>12.222555</td>\n",
       "      <td>-38.903451</td>\n",
       "      <td>-9.974552</td>\n",
       "      <td>-0.015239</td>\n",
       "      <td>7.920911</td>\n",
       "      <td>31.461661</td>\n",
       "    </tr>\n",
       "    <tr>\n",
       "      <th>mfcc6</th>\n",
       "      <td>1000.0</td>\n",
       "      <td>14.634083</td>\n",
       "      <td>11.840802</td>\n",
       "      <td>-28.424546</td>\n",
       "      <td>5.097782</td>\n",
       "      <td>15.007553</td>\n",
       "      <td>23.857726</td>\n",
       "      <td>45.173178</td>\n",
       "    </tr>\n",
       "    <tr>\n",
       "      <th>mfcc7</th>\n",
       "      <td>1000.0</td>\n",
       "      <td>-5.129624</td>\n",
       "      <td>9.941638</td>\n",
       "      <td>-32.933588</td>\n",
       "      <td>-12.870050</td>\n",
       "      <td>-5.717005</td>\n",
       "      <td>2.974185</td>\n",
       "      <td>21.835769</td>\n",
       "    </tr>\n",
       "    <tr>\n",
       "      <th>mfcc8</th>\n",
       "      <td>1000.0</td>\n",
       "      <td>10.119876</td>\n",
       "      <td>10.464090</td>\n",
       "      <td>-24.947537</td>\n",
       "      <td>1.609752</td>\n",
       "      <td>9.663922</td>\n",
       "      <td>18.708671</td>\n",
       "      <td>49.018887</td>\n",
       "    </tr>\n",
       "    <tr>\n",
       "      <th>mfcc9</th>\n",
       "      <td>1000.0</td>\n",
       "      <td>-6.995752</td>\n",
       "      <td>8.284181</td>\n",
       "      <td>-31.653059</td>\n",
       "      <td>-13.249849</td>\n",
       "      <td>-7.512299</td>\n",
       "      <td>-0.383367</td>\n",
       "      <td>19.129207</td>\n",
       "    </tr>\n",
       "    <tr>\n",
       "      <th>mfcc10</th>\n",
       "      <td>1000.0</td>\n",
       "      <td>7.730251</td>\n",
       "      <td>7.937977</td>\n",
       "      <td>-12.051190</td>\n",
       "      <td>1.621692</td>\n",
       "      <td>7.151456</td>\n",
       "      <td>14.399350</td>\n",
       "      <td>27.216746</td>\n",
       "    </tr>\n",
       "    <tr>\n",
       "      <th>mfcc11</th>\n",
       "      <td>1000.0</td>\n",
       "      <td>-6.021121</td>\n",
       "      <td>6.819018</td>\n",
       "      <td>-28.052265</td>\n",
       "      <td>-10.966826</td>\n",
       "      <td>-5.920161</td>\n",
       "      <td>-1.004241</td>\n",
       "      <td>17.421038</td>\n",
       "    </tr>\n",
       "    <tr>\n",
       "      <th>mfcc12</th>\n",
       "      <td>1000.0</td>\n",
       "      <td>4.471604</td>\n",
       "      <td>6.717312</td>\n",
       "      <td>-15.805227</td>\n",
       "      <td>-0.551576</td>\n",
       "      <td>3.891842</td>\n",
       "      <td>9.706133</td>\n",
       "      <td>23.037571</td>\n",
       "    </tr>\n",
       "    <tr>\n",
       "      <th>mfcc13</th>\n",
       "      <td>1000.0</td>\n",
       "      <td>-4.797232</td>\n",
       "      <td>6.170919</td>\n",
       "      <td>-27.542309</td>\n",
       "      <td>-9.363372</td>\n",
       "      <td>-4.199810</td>\n",
       "      <td>-0.161017</td>\n",
       "      <td>13.054333</td>\n",
       "    </tr>\n",
       "    <tr>\n",
       "      <th>mfcc14</th>\n",
       "      <td>1000.0</td>\n",
       "      <td>1.781547</td>\n",
       "      <td>5.009489</td>\n",
       "      <td>-12.598773</td>\n",
       "      <td>-1.640080</td>\n",
       "      <td>1.879424</td>\n",
       "      <td>5.155264</td>\n",
       "      <td>18.161663</td>\n",
       "    </tr>\n",
       "    <tr>\n",
       "      <th>mfcc15</th>\n",
       "      <td>1000.0</td>\n",
       "      <td>-3.870275</td>\n",
       "      <td>4.874423</td>\n",
       "      <td>-17.545474</td>\n",
       "      <td>-7.164838</td>\n",
       "      <td>-3.614473</td>\n",
       "      <td>-0.323536</td>\n",
       "      <td>12.357588</td>\n",
       "    </tr>\n",
       "    <tr>\n",
       "      <th>mfcc16</th>\n",
       "      <td>1000.0</td>\n",
       "      <td>1.147988</td>\n",
       "      <td>4.579110</td>\n",
       "      <td>-15.693589</td>\n",
       "      <td>-1.857098</td>\n",
       "      <td>1.211944</td>\n",
       "      <td>4.350694</td>\n",
       "      <td>13.468803</td>\n",
       "    </tr>\n",
       "    <tr>\n",
       "      <th>mfcc17</th>\n",
       "      <td>1000.0</td>\n",
       "      <td>-3.967431</td>\n",
       "      <td>4.550650</td>\n",
       "      <td>-17.227765</td>\n",
       "      <td>-7.194297</td>\n",
       "      <td>-4.059109</td>\n",
       "      <td>-0.842968</td>\n",
       "      <td>11.489994</td>\n",
       "    </tr>\n",
       "    <tr>\n",
       "      <th>mfcc18</th>\n",
       "      <td>1000.0</td>\n",
       "      <td>0.507303</td>\n",
       "      <td>3.869088</td>\n",
       "      <td>-11.975698</td>\n",
       "      <td>-2.003979</td>\n",
       "      <td>0.669788</td>\n",
       "      <td>3.112518</td>\n",
       "      <td>15.379257</td>\n",
       "    </tr>\n",
       "    <tr>\n",
       "      <th>mfcc19</th>\n",
       "      <td>1000.0</td>\n",
       "      <td>-2.328779</td>\n",
       "      <td>3.755574</td>\n",
       "      <td>-18.504188</td>\n",
       "      <td>-4.670281</td>\n",
       "      <td>-2.391261</td>\n",
       "      <td>0.149070</td>\n",
       "      <td>14.686910</td>\n",
       "    </tr>\n",
       "    <tr>\n",
       "      <th>mfcc20</th>\n",
       "      <td>1000.0</td>\n",
       "      <td>-1.094875</td>\n",
       "      <td>3.837561</td>\n",
       "      <td>-19.935203</td>\n",
       "      <td>-3.368000</td>\n",
       "      <td>-1.155198</td>\n",
       "      <td>1.303739</td>\n",
       "      <td>15.368966</td>\n",
       "    </tr>\n",
       "  </tbody>\n",
       "</table>\n",
       "</div>"
      ],
      "text/plain": [
       "                     count         mean          std         min          25%  \\\n",
       "tempo               1000.0   119.601702    28.297367   54.978391    99.384014   \n",
       "beats               1000.0    57.138000    14.225728   18.000000    47.000000   \n",
       "chroma_stft         1000.0     0.378656     0.081689    0.171782     0.319641   \n",
       "rmse                1000.0     0.130929     0.065685    0.005276     0.086625   \n",
       "spectral_centroid   1000.0  2201.834226   715.961347  569.930721  1627.793931   \n",
       "spectral_bandwidth  1000.0  2242.559613   526.337663  897.994319  1907.136505   \n",
       "rolloff             1000.0  4571.702159  1574.770035  749.062137  3380.956639   \n",
       "zero_crossing_rate  1000.0     0.103637     0.041834    0.021701     0.070281   \n",
       "mfcc1               1000.0  -144.479173   100.235661 -552.064063  -200.695133   \n",
       "mfcc2               1000.0    99.552199    31.331904   -1.527148    76.811480   \n",
       "mfcc3               1000.0    -8.921949    21.695015  -89.901142   -24.223791   \n",
       "mfcc4               1000.0    36.293063    16.666987  -18.768461    24.107395   \n",
       "mfcc5               1000.0    -1.146627    12.222555  -38.903451    -9.974552   \n",
       "mfcc6               1000.0    14.634083    11.840802  -28.424546     5.097782   \n",
       "mfcc7               1000.0    -5.129624     9.941638  -32.933588   -12.870050   \n",
       "mfcc8               1000.0    10.119876    10.464090  -24.947537     1.609752   \n",
       "mfcc9               1000.0    -6.995752     8.284181  -31.653059   -13.249849   \n",
       "mfcc10              1000.0     7.730251     7.937977  -12.051190     1.621692   \n",
       "mfcc11              1000.0    -6.021121     6.819018  -28.052265   -10.966826   \n",
       "mfcc12              1000.0     4.471604     6.717312  -15.805227    -0.551576   \n",
       "mfcc13              1000.0    -4.797232     6.170919  -27.542309    -9.363372   \n",
       "mfcc14              1000.0     1.781547     5.009489  -12.598773    -1.640080   \n",
       "mfcc15              1000.0    -3.870275     4.874423  -17.545474    -7.164838   \n",
       "mfcc16              1000.0     1.147988     4.579110  -15.693589    -1.857098   \n",
       "mfcc17              1000.0    -3.967431     4.550650  -17.227765    -7.194297   \n",
       "mfcc18              1000.0     0.507303     3.869088  -11.975698    -2.003979   \n",
       "mfcc19              1000.0    -2.328779     3.755574  -18.504188    -4.670281   \n",
       "mfcc20              1000.0    -1.094875     3.837561  -19.935203    -3.368000   \n",
       "\n",
       "                            50%          75%          max  \n",
       "tempo                117.453835   135.999178   234.907670  \n",
       "beats                 56.000000    65.250000   117.000000  \n",
       "chroma_stft            0.383075     0.435974     0.663573  \n",
       "rmse                   0.122448     0.175793     0.398012  \n",
       "spectral_centroid   2209.468780  2691.969702  4434.439444  \n",
       "spectral_bandwidth  2221.408983  2578.474352  3509.578677  \n",
       "rolloff             4658.671830  5534.197785  8676.405868  \n",
       "zero_crossing_rate     0.099539     0.132007     0.274829  \n",
       "mfcc1               -120.206072   -73.895019    42.034587  \n",
       "mfcc2                 98.452551   119.893638   193.096518  \n",
       "mfcc3                -10.716073     5.505793    56.666090  \n",
       "mfcc4                 36.957074    48.212826    80.691273  \n",
       "mfcc5                 -0.015239     7.920911    31.461661  \n",
       "mfcc6                 15.007553    23.857726    45.173178  \n",
       "mfcc7                 -5.717005     2.974185    21.835769  \n",
       "mfcc8                  9.663922    18.708671    49.018887  \n",
       "mfcc9                 -7.512299    -0.383367    19.129207  \n",
       "mfcc10                 7.151456    14.399350    27.216746  \n",
       "mfcc11                -5.920161    -1.004241    17.421038  \n",
       "mfcc12                 3.891842     9.706133    23.037571  \n",
       "mfcc13                -4.199810    -0.161017    13.054333  \n",
       "mfcc14                 1.879424     5.155264    18.161663  \n",
       "mfcc15                -3.614473    -0.323536    12.357588  \n",
       "mfcc16                 1.211944     4.350694    13.468803  \n",
       "mfcc17                -4.059109    -0.842968    11.489994  \n",
       "mfcc18                 0.669788     3.112518    15.379257  \n",
       "mfcc19                -2.391261     0.149070    14.686910  \n",
       "mfcc20                -1.155198     1.303739    15.368966  "
      ]
     },
     "execution_count": 6,
     "metadata": {},
     "output_type": "execute_result"
    }
   ],
   "source": [
    "df.describe().T"
   ]
  },
  {
   "cell_type": "code",
   "execution_count": 7,
   "id": "4aaad411",
   "metadata": {},
   "outputs": [],
   "source": [
    "df.drop('filename',axis=1,inplace=True)"
   ]
  },
  {
   "cell_type": "code",
   "execution_count": 8,
   "id": "7d8e6e83",
   "metadata": {},
   "outputs": [],
   "source": [
    "X = df.drop('label',axis=1)"
   ]
  },
  {
   "cell_type": "code",
   "execution_count": 9,
   "id": "3fecef61",
   "metadata": {},
   "outputs": [],
   "source": [
    "y = df['label']"
   ]
  },
  {
   "cell_type": "code",
   "execution_count": 10,
   "id": "53e3740d",
   "metadata": {},
   "outputs": [],
   "source": [
    "encoder = LabelEncoder()"
   ]
  },
  {
   "cell_type": "code",
   "execution_count": 11,
   "id": "6850a6ec",
   "metadata": {},
   "outputs": [],
   "source": [
    "y = encoder.fit_transform(y)"
   ]
  },
  {
   "cell_type": "code",
   "execution_count": 12,
   "id": "85c47351",
   "metadata": {},
   "outputs": [
    {
     "data": {
      "text/plain": [
       "['encoder.pkl']"
      ]
     },
     "execution_count": 12,
     "metadata": {},
     "output_type": "execute_result"
    }
   ],
   "source": [
    "joblib.dump(encoder, 'encoder.pkl')"
   ]
  },
  {
   "cell_type": "code",
   "execution_count": 13,
   "id": "87e2fed8",
   "metadata": {},
   "outputs": [],
   "source": [
    "X_train, X_test, y_train, y_test = train_test_split(X, y, test_size=0.2, random_state=42)"
   ]
  },
  {
   "cell_type": "code",
   "execution_count": 14,
   "id": "39e09720",
   "metadata": {},
   "outputs": [],
   "source": [
    "scaler = StandardScaler()"
   ]
  },
  {
   "cell_type": "code",
   "execution_count": 15,
   "id": "4f32de26",
   "metadata": {},
   "outputs": [],
   "source": [
    "X_train = scaler.fit_transform(X_train)\n",
    "X_test = scaler.transform(X_test)"
   ]
  },
  {
   "cell_type": "code",
   "execution_count": 16,
   "id": "e9eefeb0",
   "metadata": {},
   "outputs": [
    {
     "data": {
      "text/plain": [
       "['scaler.pkl']"
      ]
     },
     "execution_count": 16,
     "metadata": {},
     "output_type": "execute_result"
    }
   ],
   "source": [
    "joblib.dump(scaler, 'scaler.pkl')"
   ]
  },
  {
   "cell_type": "code",
   "execution_count": 17,
   "id": "04a64188",
   "metadata": {},
   "outputs": [],
   "source": [
    "# Train multiple classification algorithms\n",
    "from sklearn.linear_model import LogisticRegression\n",
    "from sklearn.tree import DecisionTreeClassifier\n",
    "from sklearn.ensemble import RandomForestClassifier\n",
    "from sklearn.svm import SVC"
   ]
  },
  {
   "cell_type": "code",
   "execution_count": 18,
   "id": "73d34970",
   "metadata": {},
   "outputs": [
    {
     "name": "stderr",
     "output_type": "stream",
     "text": [
      "/Users/viketan/opt/anaconda3/lib/python3.9/site-packages/sklearn/linear_model/_logistic.py:444: ConvergenceWarning: lbfgs failed to converge (status=1):\n",
      "STOP: TOTAL NO. of ITERATIONS REACHED LIMIT.\n",
      "\n",
      "Increase the number of iterations (max_iter) or scale the data as shown in:\n",
      "    https://scikit-learn.org/stable/modules/preprocessing.html\n",
      "Please also refer to the documentation for alternative solver options:\n",
      "    https://scikit-learn.org/stable/modules/linear_model.html#logistic-regression\n",
      "  n_iter_i = _check_optimize_result(\n"
     ]
    },
    {
     "data": {
      "text/html": [
       "<style>#sk-container-id-1 {color: black;background-color: white;}#sk-container-id-1 pre{padding: 0;}#sk-container-id-1 div.sk-toggleable {background-color: white;}#sk-container-id-1 label.sk-toggleable__label {cursor: pointer;display: block;width: 100%;margin-bottom: 0;padding: 0.3em;box-sizing: border-box;text-align: center;}#sk-container-id-1 label.sk-toggleable__label-arrow:before {content: \"▸\";float: left;margin-right: 0.25em;color: #696969;}#sk-container-id-1 label.sk-toggleable__label-arrow:hover:before {color: black;}#sk-container-id-1 div.sk-estimator:hover label.sk-toggleable__label-arrow:before {color: black;}#sk-container-id-1 div.sk-toggleable__content {max-height: 0;max-width: 0;overflow: hidden;text-align: left;background-color: #f0f8ff;}#sk-container-id-1 div.sk-toggleable__content pre {margin: 0.2em;color: black;border-radius: 0.25em;background-color: #f0f8ff;}#sk-container-id-1 input.sk-toggleable__control:checked~div.sk-toggleable__content {max-height: 200px;max-width: 100%;overflow: auto;}#sk-container-id-1 input.sk-toggleable__control:checked~label.sk-toggleable__label-arrow:before {content: \"▾\";}#sk-container-id-1 div.sk-estimator input.sk-toggleable__control:checked~label.sk-toggleable__label {background-color: #d4ebff;}#sk-container-id-1 div.sk-label input.sk-toggleable__control:checked~label.sk-toggleable__label {background-color: #d4ebff;}#sk-container-id-1 input.sk-hidden--visually {border: 0;clip: rect(1px 1px 1px 1px);clip: rect(1px, 1px, 1px, 1px);height: 1px;margin: -1px;overflow: hidden;padding: 0;position: absolute;width: 1px;}#sk-container-id-1 div.sk-estimator {font-family: monospace;background-color: #f0f8ff;border: 1px dotted black;border-radius: 0.25em;box-sizing: border-box;margin-bottom: 0.5em;}#sk-container-id-1 div.sk-estimator:hover {background-color: #d4ebff;}#sk-container-id-1 div.sk-parallel-item::after {content: \"\";width: 100%;border-bottom: 1px solid gray;flex-grow: 1;}#sk-container-id-1 div.sk-label:hover label.sk-toggleable__label {background-color: #d4ebff;}#sk-container-id-1 div.sk-serial::before {content: \"\";position: absolute;border-left: 1px solid gray;box-sizing: border-box;top: 0;bottom: 0;left: 50%;z-index: 0;}#sk-container-id-1 div.sk-serial {display: flex;flex-direction: column;align-items: center;background-color: white;padding-right: 0.2em;padding-left: 0.2em;position: relative;}#sk-container-id-1 div.sk-item {position: relative;z-index: 1;}#sk-container-id-1 div.sk-parallel {display: flex;align-items: stretch;justify-content: center;background-color: white;position: relative;}#sk-container-id-1 div.sk-item::before, #sk-container-id-1 div.sk-parallel-item::before {content: \"\";position: absolute;border-left: 1px solid gray;box-sizing: border-box;top: 0;bottom: 0;left: 50%;z-index: -1;}#sk-container-id-1 div.sk-parallel-item {display: flex;flex-direction: column;z-index: 1;position: relative;background-color: white;}#sk-container-id-1 div.sk-parallel-item:first-child::after {align-self: flex-end;width: 50%;}#sk-container-id-1 div.sk-parallel-item:last-child::after {align-self: flex-start;width: 50%;}#sk-container-id-1 div.sk-parallel-item:only-child::after {width: 0;}#sk-container-id-1 div.sk-dashed-wrapped {border: 1px dashed gray;margin: 0 0.4em 0.5em 0.4em;box-sizing: border-box;padding-bottom: 0.4em;background-color: white;}#sk-container-id-1 div.sk-label label {font-family: monospace;font-weight: bold;display: inline-block;line-height: 1.2em;}#sk-container-id-1 div.sk-label-container {text-align: center;}#sk-container-id-1 div.sk-container {/* jupyter's `normalize.less` sets `[hidden] { display: none; }` but bootstrap.min.css set `[hidden] { display: none !important; }` so we also need the `!important` here to be able to override the default hidden behavior on the sphinx rendered scikit-learn.org. See: https://github.com/scikit-learn/scikit-learn/issues/21755 */display: inline-block !important;position: relative;}#sk-container-id-1 div.sk-text-repr-fallback {display: none;}</style><div id=\"sk-container-id-1\" class=\"sk-top-container\"><div class=\"sk-text-repr-fallback\"><pre>SVC()</pre><b>In a Jupyter environment, please rerun this cell to show the HTML representation or trust the notebook. <br />On GitHub, the HTML representation is unable to render, please try loading this page with nbviewer.org.</b></div><div class=\"sk-container\" hidden><div class=\"sk-item\"><div class=\"sk-estimator sk-toggleable\"><input class=\"sk-toggleable__control sk-hidden--visually\" id=\"sk-estimator-id-1\" type=\"checkbox\" checked><label for=\"sk-estimator-id-1\" class=\"sk-toggleable__label sk-toggleable__label-arrow\">SVC</label><div class=\"sk-toggleable__content\"><pre>SVC()</pre></div></div></div></div></div>"
      ],
      "text/plain": [
       "SVC()"
      ]
     },
     "execution_count": 18,
     "metadata": {},
     "output_type": "execute_result"
    }
   ],
   "source": [
    "\n",
    "# Initialize the classifiers\n",
    "logreg = LogisticRegression()\n",
    "dt = DecisionTreeClassifier()\n",
    "rf = RandomForestClassifier()\n",
    "svm = SVC()\n",
    "\n",
    "# Train the classifiers\n",
    "logreg.fit(X_train, y_train)\n",
    "dt.fit(X_train, y_train)\n",
    "rf.fit(X_train, y_train)\n",
    "svm.fit(X_train, y_train)"
   ]
  },
  {
   "cell_type": "code",
   "execution_count": 19,
   "id": "a9e57932",
   "metadata": {},
   "outputs": [
    {
     "name": "stdout",
     "output_type": "stream",
     "text": [
      "Accuracy Scores:\n",
      "Logistic Regression: 0.605\n",
      "Decision Tree: 0.415\n",
      "Random Forest: 0.58\n",
      "SVM: 0.585\n"
     ]
    }
   ],
   "source": [
    "# Evaluate the models\n",
    "from sklearn.metrics import accuracy_score\n",
    "\n",
    "# Make predictions on the testing set\n",
    "y_pred_logreg = logreg.predict(X_test)\n",
    "y_pred_dt = dt.predict(X_test)\n",
    "y_pred_rf = rf.predict(X_test)\n",
    "y_pred_svm = svm.predict(X_test)\n",
    "\n",
    "# Calculate accuracy scores\n",
    "accuracy_logreg = accuracy_score(y_test, y_pred_logreg)\n",
    "accuracy_dt = accuracy_score(y_test, y_pred_dt)\n",
    "accuracy_rf = accuracy_score(y_test, y_pred_rf)\n",
    "accuracy_svm = accuracy_score(y_test, y_pred_svm)\n",
    "\n",
    "print(\"Accuracy Scores:\")\n",
    "print(\"Logistic Regression:\", accuracy_logreg)\n",
    "print(\"Decision Tree:\", accuracy_dt)\n",
    "print(\"Random Forest:\", accuracy_rf)\n",
    "print(\"SVM:\", accuracy_svm)"
   ]
  },
  {
   "cell_type": "code",
   "execution_count": 20,
   "id": "e89d6a32",
   "metadata": {},
   "outputs": [
    {
     "name": "stdout",
     "output_type": "stream",
     "text": [
      "Selected Model: Logistic Regression\n"
     ]
    }
   ],
   "source": [
    "# Select the best-performing model\n",
    "best_model = max([(accuracy_logreg, \"Logistic Regression\"),\n",
    "                  (accuracy_dt, \"Decision Tree\"),\n",
    "                  (accuracy_rf, \"Random Forest\"),\n",
    "                  (accuracy_svm, \"SVM\")])\n",
    "\n",
    "selected_model = best_model[1]\n",
    "print(\"Selected Model:\", selected_model)"
   ]
  },
  {
   "cell_type": "code",
   "execution_count": 21,
   "id": "8dad9aec",
   "metadata": {},
   "outputs": [
    {
     "name": "stdout",
     "output_type": "stream",
     "text": [
      "Best Hyperparameters:  {'max_depth': None, 'min_samples_leaf': 1, 'min_samples_split': 2, 'n_estimators': 200}\n",
      "Best Score:  0.66125\n",
      "Test Accuracy:  0.575\n"
     ]
    }
   ],
   "source": [
    "# Define the hyperparameters to tune\n",
    "param_grid = {\n",
    "    'n_estimators': [50, 100, 200],\n",
    "    'max_depth': [None, 5, 10],\n",
    "    'min_samples_split': [2, 5, 10],\n",
    "    'min_samples_leaf': [1, 2, 4]\n",
    "}\n",
    "rf_classifier = RandomForestClassifier()\n",
    "# Perform grid search with cross-validation\n",
    "grid_search = GridSearchCV(estimator=rf_classifier, param_grid=param_grid, cv=5)\n",
    "grid_search.fit(X_train, y_train)\n",
    "\n",
    "# Print the best hyperparameters and best score\n",
    "print(\"Best Hyperparameters: \", grid_search.best_params_)\n",
    "print(\"Best Score: \", grid_search.best_score_)\n",
    "\n",
    "# Evaluate the model on the test set\n",
    "y_pred = grid_search.predict(X_test)\n",
    "accuracy = accuracy_score(y_test, y_pred)\n",
    "print(\"Test Accuracy: \", accuracy)\n",
    "best_model = grid_search.best_estimator_"
   ]
  },
  {
   "cell_type": "code",
   "execution_count": 22,
   "id": "0e389c0e",
   "metadata": {},
   "outputs": [
    {
     "data": {
      "text/plain": [
       "['genre_model.pkl']"
      ]
     },
     "execution_count": 22,
     "metadata": {},
     "output_type": "execute_result"
    }
   ],
   "source": [
    "# Save the selected model\n",
    "joblib.dump(best_model, 'genre_model.pkl')"
   ]
  }
 ],
 "metadata": {
  "kernelspec": {
   "display_name": "Python 3 (ipykernel)",
   "language": "python",
   "name": "python3"
  },
  "language_info": {
   "codemirror_mode": {
    "name": "ipython",
    "version": 3
   },
   "file_extension": ".py",
   "mimetype": "text/x-python",
   "name": "python",
   "nbconvert_exporter": "python",
   "pygments_lexer": "ipython3",
   "version": "3.9.13"
  }
 },
 "nbformat": 4,
 "nbformat_minor": 5
}
